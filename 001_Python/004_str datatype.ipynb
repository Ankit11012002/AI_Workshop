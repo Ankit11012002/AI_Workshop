{
 "cells": [
  {
   "cell_type": "code",
   "execution_count": 1,
   "metadata": {},
   "outputs": [
    {
     "name": "stdout",
     "output_type": "stream",
     "text": [
      "<class 'str'>\n",
      "<class 'str'>\n",
      "<class 'str'>\n",
      "<class 'str'>\n"
     ]
    }
   ],
   "source": [
    "# str --> seq of character\n",
    "var = 'FGHH626^'\n",
    "print(type(var))\n",
    "var = \"python\"\n",
    "print(type(var))\n",
    "var = '''python'''\n",
    "print(type(var))\n",
    "var = \"\"\"python\"\"\"\n",
    "print(type(var))"
   ]
  },
  {
   "cell_type": "code",
   "execution_count": 2,
   "metadata": {},
   "outputs": [
    {
     "name": "stdout",
     "output_type": "stream",
     "text": [
      "p\n",
      "y\n",
      "t\n",
      "h\n",
      "o\n",
      "n\n"
     ]
    }
   ],
   "source": [
    "# we can accesss the characters from str\n",
    "# indexing --> position or location\n",
    "# positive indexing \n",
    "var = \"python\"\n",
    "print(var[0])\n",
    "print(var[1])\n",
    "print(var[2])\n",
    "print(var[3])\n",
    "print(var[4])\n",
    "print(var[5])"
   ]
  },
  {
   "cell_type": "code",
   "execution_count": 3,
   "metadata": {},
   "outputs": [
    {
     "name": "stdout",
     "output_type": "stream",
     "text": [
      "n\n",
      "o\n",
      "h\n",
      "t\n",
      "y\n",
      "p\n"
     ]
    }
   ],
   "source": [
    "# Negative indexing \n",
    "var = \"python\"\n",
    "print(var[-1])\n",
    "print(var[-2])\n",
    "print(var[-3])\n",
    "print(var[-4])\n",
    "print(var[-5])\n",
    "print(var[-6])"
   ]
  },
  {
   "cell_type": "code",
   "execution_count": 4,
   "metadata": {},
   "outputs": [
    {
     "name": "stdout",
     "output_type": "stream",
     "text": [
      "n o h t y p\n"
     ]
    }
   ],
   "source": [
    "var = \"python\"\n",
    "print(var[-1],end=\" \")\n",
    "print(var[-2],end=\" \")\n",
    "print(var[-3],end=\" \")\n",
    "print(var[-4],end=\" \")\n",
    "print(var[-5],end=\" \")\n",
    "print(var[-6])"
   ]
  },
  {
   "cell_type": "code",
   "execution_count": 5,
   "metadata": {},
   "outputs": [
    {
     "name": "stdout",
     "output_type": "stream",
     "text": [
      "programming\n",
      "python programming\n",
      "programming language\n"
     ]
    }
   ],
   "source": [
    "# Slicing concept  var[ start :  stop]\n",
    "var = \"python programming language\"\n",
    "print(var[7:18]) # programming\n",
    "print(var[ :18]) # python programming\n",
    "print(var[7: ])  # programming language\n"
   ]
  },
  {
   "cell_type": "code",
   "execution_count": 16,
   "metadata": {},
   "outputs": [
    {
     "name": "stdout",
     "output_type": "stream",
     "text": [
      "tnrrmg\n",
      "thon programming\n",
      "marg\n",
      "gram\n"
     ]
    }
   ],
   "source": [
    "# Dicing Concept   var[ srart : stop  : step]\n",
    "var = \"python programming language\"\n",
    "print(var[2:18:3])\n",
    "print(var[2:18:1<4])\n",
    "print(var[-14:-18 : -1])\n",
    "print(var[-17 : -13])"
   ]
  },
  {
   "cell_type": "code",
   "execution_count": 17,
   "metadata": {},
   "outputs": [
    {
     "name": "stdout",
     "output_type": "stream",
     "text": [
      "h\n"
     ]
    },
    {
     "ename": "TypeError",
     "evalue": "'str' object does not support item assignment",
     "output_type": "error",
     "traceback": [
      "\u001b[1;31m---------------------------------------------------------------------------\u001b[0m",
      "\u001b[1;31mTypeError\u001b[0m                                 Traceback (most recent call last)",
      "\u001b[1;32m<ipython-input-17-f218daff4cb7>\u001b[0m in \u001b[0;36m<module>\u001b[1;34m\u001b[0m\n\u001b[0;32m      2\u001b[0m \u001b[0mvar\u001b[0m \u001b[1;33m=\u001b[0m\u001b[1;34m\"python\"\u001b[0m\u001b[1;33m\u001b[0m\u001b[1;33m\u001b[0m\u001b[0m\n\u001b[0;32m      3\u001b[0m \u001b[0mprint\u001b[0m\u001b[1;33m(\u001b[0m\u001b[0mvar\u001b[0m\u001b[1;33m[\u001b[0m\u001b[1;36m3\u001b[0m\u001b[1;33m]\u001b[0m\u001b[1;33m)\u001b[0m\u001b[1;33m\u001b[0m\u001b[1;33m\u001b[0m\u001b[0m\n\u001b[1;32m----> 4\u001b[1;33m \u001b[0mvar\u001b[0m\u001b[1;33m[\u001b[0m\u001b[1;36m3\u001b[0m\u001b[1;33m]\u001b[0m \u001b[1;33m=\u001b[0m\u001b[1;34m\"3\"\u001b[0m\u001b[1;33m\u001b[0m\u001b[1;33m\u001b[0m\u001b[0m\n\u001b[0m",
      "\u001b[1;31mTypeError\u001b[0m: 'str' object does not support item assignment"
     ]
    }
   ],
   "source": [
    "#str is immutable  ---> we can't modify\n",
    "var =\"python\"\n",
    "print(var[3])\n",
    "var[3] =\"3\""
   ]
  },
  {
   "cell_type": "code",
   "execution_count": 1,
   "metadata": {},
   "outputs": [
    {
     "name": "stdout",
     "output_type": "stream",
     "text": [
      "6\n",
      "y\n",
      "h\n",
      "97\n",
      "98\n",
      "122\n",
      "48\n",
      "90\n",
      "c\n",
      "Y\n"
     ]
    }
   ],
   "source": [
    "# str --->> predefined class ---> methods  --->>  manipulation of str data\n",
    "var = \"python\"\n",
    "print(len(var)) # no of characters --> 6\n",
    "print(max(var)) # larger character  -> y\n",
    "print(min(var)) # smallest character ->h\n",
    "# ord -->>>  char --> ascii\n",
    "print(ord('a')) # 97\n",
    "print(ord('b')) # 98\n",
    "print(ord('z')) # 122\n",
    "print(ord('0')) # 48\n",
    "print(ord('Z')) # 90\n",
    "\n",
    "# chr (ascii) ---> ascii ----> char\n",
    "print(chr(99)) # c\n",
    "print(chr(89)) # Y"
   ]
  },
  {
   "cell_type": "code",
   "execution_count": 4,
   "metadata": {},
   "outputs": [
    {
     "name": "stdout",
     "output_type": "stream",
     "text": [
      "10\n",
      "32\n"
     ]
    }
   ],
   "source": [
    "print(ord('\\n'))\n",
    "\n",
    "print(ord(' '))\n"
   ]
  },
  {
   "cell_type": "code",
   "execution_count": 5,
   "metadata": {},
   "outputs": [
    {
     "name": "stdout",
     "output_type": "stream",
     "text": [
      "['__add__', '__class__', '__contains__', '__delattr__', '__dir__', '__doc__', '__eq__', '__format__', '__ge__', '__getattribute__', '__getitem__', '__getnewargs__', '__gt__', '__hash__', '__init__', '__init_subclass__', '__iter__', '__le__', '__len__', '__lt__', '__mod__', '__mul__', '__ne__', '__new__', '__reduce__', '__reduce_ex__', '__repr__', '__rmod__', '__rmul__', '__setattr__', '__sizeof__', '__str__', '__subclasshook__', 'capitalize', 'casefold', 'center', 'count', 'encode', 'endswith', 'expandtabs', 'find', 'format', 'format_map', 'index', 'isalnum', 'isalpha', 'isascii', 'isdecimal', 'isdigit', 'isidentifier', 'islower', 'isnumeric', 'isprintable', 'isspace', 'istitle', 'isupper', 'join', 'ljust', 'lower', 'lstrip', 'maketrans', 'partition', 'replace', 'rfind', 'rindex', 'rjust', 'rpartition', 'rsplit', 'rstrip', 'split', 'splitlines', 'startswith', 'strip', 'swapcase', 'title', 'translate', 'upper', 'zfill']\n"
     ]
    }
   ],
   "source": [
    "print(dir(str))"
   ]
  },
  {
   "cell_type": "code",
   "execution_count": 7,
   "metadata": {},
   "outputs": [
    {
     "name": "stdout",
     "output_type": "stream",
     "text": [
      "python program\n",
      "Help on wrapper_descriptor:\n",
      "\n",
      "__add__(self, value, /)\n",
      "    Return self+value.\n",
      "\n"
     ]
    }
   ],
   "source": [
    "# __special_method__  ===>> automatically it can execute\n",
    "a = \"python \"\n",
    "b = \"program\"\n",
    "print(a+b)  #__add__\n",
    "help(str.__add__)"
   ]
  },
  {
   "cell_type": "code",
   "execution_count": 8,
   "metadata": {},
   "outputs": [
    {
     "name": "stdout",
     "output_type": "stream",
     "text": [
      "python python python python \n",
      "Help on wrapper_descriptor:\n",
      "\n",
      "__mul__(self, value, /)\n",
      "    Return self*value.\n",
      "\n"
     ]
    }
   ],
   "source": [
    "# __mul__\n",
    "var = \"python \"\n",
    "print(var * 4)  # __mul__\n",
    "help(str.__mul__)"
   ]
  },
  {
   "cell_type": "code",
   "execution_count": 10,
   "metadata": {},
   "outputs": [
    {
     "name": "stdout",
     "output_type": "stream",
     "text": [
      "h\n",
      "h\n"
     ]
    }
   ],
   "source": [
    "#__getitem__\n",
    "var = \"python\"\n",
    "print(var[3]) #h\n",
    "print(var.__getitem__(3))"
   ]
  },
  {
   "cell_type": "code",
   "execution_count": 11,
   "metadata": {},
   "outputs": [
    {
     "name": "stdout",
     "output_type": "stream",
     "text": [
      "*************************\n"
     ]
    }
   ],
   "source": [
    "print(\"*\" * 25)"
   ]
  },
  {
   "cell_type": "code",
   "execution_count": 12,
   "metadata": {},
   "outputs": [
    {
     "name": "stdout",
     "output_type": "stream",
     "text": [
      "True\n",
      "True\n"
     ]
    }
   ],
   "source": [
    "var = \"python\"\n",
    "# in\n",
    "print('o' in var)\n",
    "print(var.__contains__('o'))"
   ]
  },
  {
   "cell_type": "code",
   "execution_count": 14,
   "metadata": {},
   "outputs": [
    {
     "name": "stdout",
     "output_type": "stream",
     "text": [
      "python ghghjgjh\n",
      "PYTHON GHGHJGJH\n",
      "PYTHON ghghjgJH\n",
      "Python Ghghjgjh\n",
      "Python ghghjgjh\n"
     ]
    }
   ],
   "source": [
    "var = \"python GHGHJGjh\"\n",
    "print(var.lower()) # all characters are lower\n",
    "print(var.upper()) # all char's upper \n",
    "print(var.swapcase())# lower <---> upper\n",
    "print(var.title()) # title  ( 1st char of each word is capital remaining character smaller)\n",
    "print(var.capitalize()) #1st character of  document is capital  "
   ]
  },
  {
   "cell_type": "code",
   "execution_count": 15,
   "metadata": {},
   "outputs": [
    {
     "name": "stdout",
     "output_type": "stream",
     "text": [
      "PYthON ghghjgjh\n"
     ]
    }
   ],
   "source": [
    "var = \"python GHGHJGjh\"\n",
    "print(var[:2].upper() + var[2:4].lower()+var[4:6].upper()+var[6:].lower())"
   ]
  },
  {
   "cell_type": "code",
   "execution_count": 16,
   "metadata": {},
   "outputs": [
    {
     "name": "stdout",
     "output_type": "stream",
     "text": [
      "python\n",
      "pytHon\n",
      "python\n"
     ]
    }
   ],
   "source": [
    "# replace()\n",
    "var = \"python\"\n",
    "print(var)\n",
    "print(var.replace('h','H'))\n",
    "print(var)"
   ]
  },
  {
   "cell_type": "code",
   "execution_count": 17,
   "metadata": {},
   "outputs": [
    {
     "name": "stdout",
     "output_type": "stream",
     "text": [
      "python\n",
      "pytHon\n"
     ]
    }
   ],
   "source": [
    "# replace()\n",
    "var = \"python\"\n",
    "print(var)\n",
    "var = var.replace('h','H')\n",
    "print(var)"
   ]
  },
  {
   "cell_type": "code",
   "execution_count": 19,
   "metadata": {},
   "outputs": [
    {
     "name": "stdout",
     "output_type": "stream",
     "text": [
      "265 ns ± 37.7 ns per loop (mean ± std. dev. of 7 runs, 1000000 loops each)\n"
     ]
    }
   ],
   "source": [
    "var = \"python kjhkjhHJGHJ\"\n",
    "%timeit var.upper()"
   ]
  },
  {
   "cell_type": "code",
   "execution_count": 20,
   "metadata": {},
   "outputs": [
    {
     "name": "stdout",
     "output_type": "stream",
     "text": [
      "274 ns ± 24.6 ns per loop (mean ± std. dev. of 7 runs, 1000000 loops each)\n"
     ]
    }
   ],
   "source": [
    "var = \"python kjhkjhHJGHJ\"\n",
    "%timeit var.lower()"
   ]
  },
  {
   "cell_type": "code",
   "execution_count": 21,
   "metadata": {},
   "outputs": [
    {
     "name": "stdout",
     "output_type": "stream",
     "text": [
      "317 ns ± 37.4 ns per loop (mean ± std. dev. of 7 runs, 1000000 loops each)\n"
     ]
    }
   ],
   "source": [
    "var = \"python kjhkjhHJGHJ\"\n",
    "%timeit var.upper()"
   ]
  },
  {
   "cell_type": "code",
   "execution_count": 22,
   "metadata": {},
   "outputs": [
    {
     "name": "stdout",
     "output_type": "stream",
     "text": [
      "['this', 'is', 'small', 'program']\n"
     ]
    }
   ],
   "source": [
    "var = \"this is small program\"\n",
    "print(var.split())"
   ]
  },
  {
   "cell_type": "code",
   "execution_count": 23,
   "metadata": {},
   "outputs": [
    {
     "name": "stdout",
     "output_type": "stream",
     "text": [
      "['this', 'is', 'small', 'program']\n"
     ]
    }
   ],
   "source": [
    "var = \"this1is1small1program\"\n",
    "print(var.split('1'))"
   ]
  },
  {
   "cell_type": "code",
   "execution_count": 25,
   "metadata": {},
   "outputs": [
    {
     "name": "stdout",
     "output_type": "stream",
     "text": [
      "this2is2small2program\n",
      "this is small program\n"
     ]
    }
   ],
   "source": [
    "# join()\n",
    "var =['this', 'is', 'small', 'program']\n",
    "print('2'.join(var))\n",
    "print(' '.join(var))"
   ]
  },
  {
   "cell_type": "code",
   "execution_count": 27,
   "metadata": {},
   "outputs": [
    {
     "name": "stdout",
     "output_type": "stream",
     "text": [
      "True\n",
      "False\n"
     ]
    }
   ],
   "source": [
    "# boolean methods --> True / False\n",
    "var = \"34567876543\"\n",
    "print(var.isdigit()) # True\n",
    "var = \"34567hh876543\"\n",
    "print(var.isdigit()) # "
   ]
  },
  {
   "cell_type": "code",
   "execution_count": 28,
   "metadata": {},
   "outputs": [
    {
     "name": "stdout",
     "output_type": "stream",
     "text": [
      "True\n",
      "False\n",
      "False\n"
     ]
    }
   ],
   "source": [
    "# boolean methods --> True / False\n",
    "var = \"jhdfhdHFGDHJ\"\n",
    "print(var.isalpha()) # True\n",
    "var = \"jhgfJHGJ JFHD\"\n",
    "print(var.isalpha()) # \n",
    "var = \"jhgfJHGJ6JFHD\"\n",
    "print(var.isalpha()) # True"
   ]
  },
  {
   "cell_type": "code",
   "execution_count": 29,
   "metadata": {},
   "outputs": [
    {
     "name": "stdout",
     "output_type": "stream",
     "text": [
      "True\n",
      "False\n"
     ]
    }
   ],
   "source": [
    "var = \"jhgfJHGJ787JFHD\"\n",
    "print(var.isalnum()) # True\n",
    "\n",
    "var = \"jhgfJHGJ7 87JFHD\"\n",
    "print(var.isalnum()) # false"
   ]
  },
  {
   "cell_type": "code",
   "execution_count": 30,
   "metadata": {},
   "outputs": [
    {
     "name": "stdout",
     "output_type": "stream",
     "text": [
      "True\n"
     ]
    }
   ],
   "source": [
    "var = \"     \"\n",
    "print(var.isspace())"
   ]
  },
  {
   "cell_type": "code",
   "execution_count": 31,
   "metadata": {},
   "outputs": [
    {
     "name": "stdout",
     "output_type": "stream",
     "text": [
      "True\n",
      "True\n"
     ]
    }
   ],
   "source": [
    "var = \"hgjhgjhg\"\n",
    "print(var.islower())\n",
    "var = \"HJGJHGHJ\"\n",
    "print(var.isupper())"
   ]
  },
  {
   "cell_type": "code",
   "execution_count": 33,
   "metadata": {},
   "outputs": [
    {
     "name": "stdout",
     "output_type": "stream",
     "text": [
      "False\n",
      "True\n"
     ]
    }
   ],
   "source": [
    "var = \"HJGJHGHJ\"\n",
    "print('g' in var)\n",
    "print('J' in var)"
   ]
  },
  {
   "cell_type": "code",
   "execution_count": 34,
   "metadata": {},
   "outputs": [
    {
     "name": "stdout",
     "output_type": "stream",
     "text": [
      "2\n"
     ]
    }
   ],
   "source": [
    "var = \"kjsfhkjhk\"\n",
    "print(var.count('j'))\n"
   ]
  },
  {
   "cell_type": "code",
   "execution_count": 35,
   "metadata": {},
   "outputs": [
    {
     "name": "stdout",
     "output_type": "stream",
     "text": [
      "True\n"
     ]
    }
   ],
   "source": [
    "var = \"@#$%^&*(*&^%$#@#$)\"\n",
    "print(not var.isalnum())"
   ]
  },
  {
   "cell_type": "code",
   "execution_count": 36,
   "metadata": {},
   "outputs": [
    {
     "name": "stdout",
     "output_type": "stream",
     "text": [
      "2\n"
     ]
    }
   ],
   "source": [
    "var = \"python\"\n",
    "print(var.index('t'))"
   ]
  },
  {
   "cell_type": "code",
   "execution_count": null,
   "metadata": {},
   "outputs": [],
   "source": []
  }
 ],
 "metadata": {
  "kernelspec": {
   "display_name": "Python 3",
   "language": "python",
   "name": "python3"
  },
  "language_info": {
   "codemirror_mode": {
    "name": "ipython",
    "version": 3
   },
   "file_extension": ".py",
   "mimetype": "text/x-python",
   "name": "python",
   "nbconvert_exporter": "python",
   "pygments_lexer": "ipython3",
   "version": "3.8.3"
  }
 },
 "nbformat": 4,
 "nbformat_minor": 4
}
