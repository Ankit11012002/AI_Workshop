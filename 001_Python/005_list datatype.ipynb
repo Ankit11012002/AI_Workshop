{
 "cells": [
  {
   "cell_type": "code",
   "execution_count": 1,
   "metadata": {},
   "outputs": [
    {
     "name": "stdout",
     "output_type": "stream",
     "text": [
      "<class 'list'>\n"
     ]
    }
   ],
   "source": [
    "#### list datatype \n",
    "'''\n",
    "==>> sequencial datatype -->> collection / group of elements []\n",
    "==>> Hetrogenious datatype --> collection of different type of elements\n",
    "'''\n",
    "var = [12, 7.23 , 4+5j ,True ,None , \"soc\",[1,2,3] ,(1,2,3) ,{1,2,3} ,{12:45}]\n",
    "print(type(var))"
   ]
  },
  {
   "cell_type": "code",
   "execution_count": 2,
   "metadata": {},
   "outputs": [
    {
     "name": "stdout",
     "output_type": "stream",
     "text": [
      "12\n",
      "7.23\n",
      "(4+5j)\n",
      "True\n",
      "{12: 45}\n"
     ]
    }
   ],
   "source": [
    "# positive indexing   -->    0  to len-1\n",
    "var = [12, 7.23 , 4+5j ,True ,None , \"soc\",[1,2,3] ,(1,2,3) ,{1,2,3} ,{12:45}]\n",
    "print(var[0])\n",
    "print(var[1])\n",
    "print(var[2])\n",
    "print(var[3])\n",
    "print(var[9])"
   ]
  },
  {
   "cell_type": "code",
   "execution_count": 3,
   "metadata": {},
   "outputs": [
    {
     "name": "stdout",
     "output_type": "stream",
     "text": [
      "{12: 45}\n",
      "{1, 2, 3}\n",
      "(1, 2, 3)\n",
      "7.23\n"
     ]
    }
   ],
   "source": [
    "# Negative index  --->>    -1 to   -len\n",
    "var = [12, 7.23 , 4+5j ,True ,None , \"soc\",[1,2,3] ,(1,2,3) ,{1,2,3} ,{12:45}]\n",
    "print(var[-1])\n",
    "print(var[-2])\n",
    "print(var[-3])\n",
    "print(var[-9])"
   ]
  },
  {
   "cell_type": "code",
   "execution_count": 5,
   "metadata": {},
   "outputs": [
    {
     "name": "stdout",
     "output_type": "stream",
     "text": [
      "[True, None, 'soc', [1, 2, 3], (1, 2, 3)]\n",
      "[12, 7.23, (4+5j), True, None, 'soc', [1, 2, 3], (1, 2, 3)]\n",
      "[True, None, 'soc', [1, 2, 3], (1, 2, 3), {1, 2, 3}, {12: 45}]\n"
     ]
    }
   ],
   "source": [
    "# list slicing ---> var[start  : stop]\n",
    "\n",
    "\n",
    "var = [12, 7.23 , 4+5j ,True ,None , \"soc\",[1,2,3] ,(1,2,3) ,{1,2,3} ,{12:45}]\n",
    "print(var[3:8])\n",
    "print(var[ :8]) # start --> 0\n",
    "print(var[3:])  # stop   --> len"
   ]
  },
  {
   "cell_type": "code",
   "execution_count": 6,
   "metadata": {},
   "outputs": [
    {
     "name": "stdout",
     "output_type": "stream",
     "text": [
      "[1, 2, 3, 4]\n",
      "[4, 5, 6, 8]\n",
      "3\n",
      "5\n"
     ]
    }
   ],
   "source": [
    "var = [[1,2,3,4] , [4,5,6,8]]\n",
    "print(var[0])\n",
    "print(var[1])\n",
    "print(var[0][2]) # 3\n",
    "print(var[1][1]) # 5"
   ]
  },
  {
   "cell_type": "code",
   "execution_count": 8,
   "metadata": {},
   "outputs": [
    {
     "name": "stdout",
     "output_type": "stream",
     "text": [
      "[7.23, None, (1, 2, 3)]\n",
      "[12, True, [1, 2, 3]]\n",
      "[7.23, True, 'soc', (1, 2, 3), {12: 45}]\n",
      "[7.23, (4+5j), True, None, 'soc', [1, 2, 3], (1, 2, 3)]\n"
     ]
    }
   ],
   "source": [
    "# list dcing var[start  :  stop  : step]\n",
    "\n",
    "\n",
    "var = [12, 7.23 , 4+5j ,True ,None , \"soc\",[1,2,3] ,(1,2,3) ,{1,2,3} ,{12:45}]\n",
    "\n",
    "print(var[1 : 8  : 3])\n",
    "print(var[ :  8  : 3])\n",
    "print(var[1:     : 2]) # 1,3,5,7,9\n",
    "print(var[1:8:]) #1 to 7"
   ]
  },
  {
   "cell_type": "code",
   "execution_count": 9,
   "metadata": {},
   "outputs": [
    {
     "name": "stdout",
     "output_type": "stream",
     "text": [
      "[12, True, [1, 2, 3], {12: 45}]\n",
      "[(4+5j), True, None, 'soc', [1, 2, 3], (1, 2, 3), {1, 2, 3}, {12: 45}]\n"
     ]
    }
   ],
   "source": [
    "\n",
    "var = [12, 7.23 , 4+5j ,True ,None , \"soc\",[1,2,3] ,(1,2,3) ,{1,2,3} ,{12:45}]\n",
    "\n",
    "print(var[ :   : 3])  # 0 ,3,6,9\n",
    "print(var[ 2 :  : ])  # 2to 9"
   ]
  },
  {
   "cell_type": "code",
   "execution_count": 10,
   "metadata": {},
   "outputs": [
    {
     "name": "stdout",
     "output_type": "stream",
     "text": [
      "[12, 7.23, (4+5j), True, None, 'soc', [1, 2, 3], (1, 2, 3), {1, 2, 3}, {12: 45}]\n"
     ]
    }
   ],
   "source": [
    "var = [12, 7.23 , 4+5j ,True ,None , \"soc\",[1,2,3] ,(1,2,3) ,{1,2,3} ,{12:45}]\n",
    "print(var[::])"
   ]
  },
  {
   "cell_type": "code",
   "execution_count": 11,
   "metadata": {},
   "outputs": [
    {
     "name": "stdout",
     "output_type": "stream",
     "text": [
      "[1, 2, 3, 4]\n",
      "[1, 2, 100, 4]\n"
     ]
    }
   ],
   "source": [
    "# mutable datatype , unhashable\n",
    "var = [1,2,3,4]\n",
    "print(var)\n",
    "var[2] = 100\n",
    "print(var)"
   ]
  },
  {
   "cell_type": "code",
   "execution_count": 12,
   "metadata": {},
   "outputs": [
    {
     "name": "stdout",
     "output_type": "stream",
     "text": [
      "[1, 4, 5]\n",
      "[1, 4, 5, 100]\n",
      "[1, 4, 5, 100, 200]\n"
     ]
    }
   ],
   "source": [
    "var = [1,4,5]\n",
    "print(var)\n",
    "var.append(100)\n",
    "print(var)\n",
    "var.append(200)\n",
    "print(var)"
   ]
  },
  {
   "cell_type": "code",
   "execution_count": 13,
   "metadata": {},
   "outputs": [
    {
     "name": "stdout",
     "output_type": "stream",
     "text": [
      "[1, 3, 4, 5]\n",
      "[1, 3, 4]\n",
      "[1, 3]\n"
     ]
    }
   ],
   "source": [
    "var = [1,3,4,5]\n",
    "print(var)\n",
    "var.pop()\n",
    "print(var)\n",
    "var.pop()\n",
    "print(var)"
   ]
  },
  {
   "cell_type": "code",
   "execution_count": 15,
   "metadata": {},
   "outputs": [
    {
     "name": "stdout",
     "output_type": "stream",
     "text": [
      "[1, 3, 4, 5]\n",
      "[1, 4, 5]\n",
      "[1, 4]\n"
     ]
    }
   ],
   "source": [
    "var = [1,3,4,5]\n",
    "print(var)\n",
    "var.pop(1)\n",
    "print(var)\n",
    "var.pop(2)\n",
    "print(var)"
   ]
  },
  {
   "cell_type": "code",
   "execution_count": 16,
   "metadata": {},
   "outputs": [
    {
     "name": "stdout",
     "output_type": "stream",
     "text": [
      "[45, 90, 23, 88, 26]\n",
      "[45, 23, 88, 26]\n"
     ]
    },
    {
     "ename": "ValueError",
     "evalue": "list.remove(x): x not in list",
     "output_type": "error",
     "traceback": [
      "\u001b[1;31m---------------------------------------------------------------------------\u001b[0m",
      "\u001b[1;31mValueError\u001b[0m                                Traceback (most recent call last)",
      "\u001b[1;32m<ipython-input-16-e834223c9293>\u001b[0m in \u001b[0;36m<module>\u001b[1;34m\u001b[0m\n\u001b[0;32m      4\u001b[0m \u001b[0mvar\u001b[0m\u001b[1;33m.\u001b[0m\u001b[0mremove\u001b[0m\u001b[1;33m(\u001b[0m\u001b[1;36m90\u001b[0m\u001b[1;33m)\u001b[0m\u001b[1;33m\u001b[0m\u001b[1;33m\u001b[0m\u001b[0m\n\u001b[0;32m      5\u001b[0m \u001b[0mprint\u001b[0m\u001b[1;33m(\u001b[0m\u001b[0mvar\u001b[0m\u001b[1;33m)\u001b[0m\u001b[1;33m\u001b[0m\u001b[1;33m\u001b[0m\u001b[0m\n\u001b[1;32m----> 6\u001b[1;33m \u001b[0mvar\u001b[0m\u001b[1;33m.\u001b[0m\u001b[0mremove\u001b[0m\u001b[1;33m(\u001b[0m\u001b[1;36m100\u001b[0m\u001b[1;33m)\u001b[0m\u001b[1;33m\u001b[0m\u001b[1;33m\u001b[0m\u001b[0m\n\u001b[0m",
      "\u001b[1;31mValueError\u001b[0m: list.remove(x): x not in list"
     ]
    }
   ],
   "source": [
    "# remove  ---> directly remove elements without help index\n",
    "var = [45,90,23,88,26]\n",
    "print(var)\n",
    "var.remove(90)\n",
    "print(var)\n",
    "var.remove(100)\n"
   ]
  },
  {
   "cell_type": "code",
   "execution_count": 17,
   "metadata": {},
   "outputs": [
    {
     "name": "stdout",
     "output_type": "stream",
     "text": [
      "[45, 90, 23, 88, 26]\n",
      "[90, 88]\n"
     ]
    }
   ],
   "source": [
    "var = [45,90,23,88,26]\n",
    "print(var)\n",
    "del var[: : 2]\n",
    "print(var)"
   ]
  },
  {
   "cell_type": "code",
   "execution_count": 14,
   "metadata": {},
   "outputs": [
    {
     "name": "stdout",
     "output_type": "stream",
     "text": [
      "6\n",
      "23\n",
      "3\n",
      "56\n"
     ]
    }
   ],
   "source": [
    "var = [12,3,4,6,8,23]\n",
    "print(len(var))\n",
    "print(max(var))\n",
    "print(min(var))\n",
    "print(sum(var))"
   ]
  },
  {
   "cell_type": "code",
   "execution_count": 18,
   "metadata": {},
   "outputs": [
    {
     "name": "stdout",
     "output_type": "stream",
     "text": [
      "[12, 89, 78, 100]\n"
     ]
    }
   ],
   "source": [
    "var = [12,89,45,78,100]\n",
    "print(var[:2]+var[3:])"
   ]
  },
  {
   "cell_type": "code",
   "execution_count": 20,
   "metadata": {},
   "outputs": [
    {
     "name": "stdout",
     "output_type": "stream",
     "text": [
      "[12, 89, 78, 100]\n"
     ]
    }
   ],
   "source": [
    "var = [12,89,45,78,100]\n",
    "v = []\n",
    "for i  in range(5):\n",
    "    if(i== 2):\n",
    "        continue\n",
    "    v.append(var[i])\n",
    "print(v)"
   ]
  },
  {
   "cell_type": "code",
   "execution_count": 24,
   "metadata": {},
   "outputs": [
    {
     "name": "stdout",
     "output_type": "stream",
     "text": [
      "[12, 89, 78, 100, 67, 67, 34, 90, 12, 78]\n"
     ]
    }
   ],
   "source": [
    "var = [12,89,45,78,100,45,67,45,55,67,34,90,55,12,78,55]\n",
    "v = []\n",
    "for i  in range(len(var)):\n",
    "    if(var[i]== 45  or var[i] == 55):\n",
    "        continue\n",
    "    v.append(var[i])\n",
    "print(v)"
   ]
  },
  {
   "cell_type": "code",
   "execution_count": 25,
   "metadata": {},
   "outputs": [
    {
     "name": "stdout",
     "output_type": "stream",
     "text": [
      "[12, 5, 60, 56]\n",
      "[12, 5, 100, 60, 56]\n"
     ]
    }
   ],
   "source": [
    "var = [12,5,60,56]\n",
    "print(var)\n",
    "var.insert(2,100)\n",
    "print(var)"
   ]
  },
  {
   "cell_type": "code",
   "execution_count": 26,
   "metadata": {},
   "outputs": [
    {
     "name": "stdout",
     "output_type": "stream",
     "text": [
      "3\n"
     ]
    }
   ],
   "source": [
    "var = [12,90,12,90,12]\n",
    "print(var.count(12))"
   ]
  },
  {
   "cell_type": "code",
   "execution_count": 27,
   "metadata": {},
   "outputs": [
    {
     "name": "stdout",
     "output_type": "stream",
     "text": [
      "[12, 5, 60, 56]\n",
      "[12, 5, 100, 60, 100, 56, 100]\n"
     ]
    }
   ],
   "source": [
    "var = [12,5,60,56]\n",
    "print(var)\n",
    "for index in [2,4,7]:\n",
    "    var.insert(index,100)\n",
    "print(var)"
   ]
  },
  {
   "cell_type": "code",
   "execution_count": 28,
   "metadata": {},
   "outputs": [
    {
     "name": "stdout",
     "output_type": "stream",
     "text": [
      "[12, 89, 0, 34, 100]\n",
      "[0, 12, 34, 89, 100]\n"
     ]
    }
   ],
   "source": [
    "var = [12,89,0,34,100]\n",
    "print(var)\n",
    "var.sort()\n",
    "print(var)"
   ]
  },
  {
   "cell_type": "code",
   "execution_count": 29,
   "metadata": {},
   "outputs": [
    {
     "name": "stdout",
     "output_type": "stream",
     "text": [
      "[12, 89, 0, 34, 100]\n",
      "[100, 34, 0, 89, 12]\n"
     ]
    }
   ],
   "source": [
    "var = [12,89,0,34,100]\n",
    "print(var)\n",
    "var.reverse()\n",
    "print(var)"
   ]
  },
  {
   "cell_type": "code",
   "execution_count": 30,
   "metadata": {},
   "outputs": [
    {
     "name": "stdout",
     "output_type": "stream",
     "text": [
      "[12, 89, 0, 34, 100]\n",
      "[100, 89, 34, 12, 0]\n"
     ]
    }
   ],
   "source": [
    "var = [12,89,0,34,100]\n",
    "print(var)\n",
    "var.sort()\n",
    "var.reverse()\n",
    "print(var)"
   ]
  },
  {
   "cell_type": "code",
   "execution_count": 31,
   "metadata": {},
   "outputs": [
    {
     "name": "stdout",
     "output_type": "stream",
     "text": [
      "['__add__', '__class__', '__contains__', '__delattr__', '__delitem__', '__dir__', '__doc__', '__eq__', '__format__', '__ge__', '__getattribute__', '__getitem__', '__gt__', '__hash__', '__iadd__', '__imul__', '__init__', '__init_subclass__', '__iter__', '__le__', '__len__', '__lt__', '__mul__', '__ne__', '__new__', '__reduce__', '__reduce_ex__', '__repr__', '__reversed__', '__rmul__', '__setattr__', '__setitem__', '__sizeof__', '__str__', '__subclasshook__', 'append', 'clear', 'copy', 'count', 'extend', 'index', 'insert', 'pop', 'remove', 'reverse', 'sort']\n"
     ]
    }
   ],
   "source": [
    "print(dir(list))"
   ]
  },
  {
   "cell_type": "code",
   "execution_count": 32,
   "metadata": {},
   "outputs": [
    {
     "name": "stdout",
     "output_type": "stream",
     "text": [
      "[12, 90, 12, 89]\n",
      "[12, 90, 12, 89, 34, 100, 23]\n"
     ]
    }
   ],
   "source": [
    "a = [12,90,12,89]\n",
    "b = [34,100,23]\n",
    "print(a)\n",
    "a.extend(b)\n",
    "print(a)"
   ]
  },
  {
   "cell_type": "code",
   "execution_count": 33,
   "metadata": {},
   "outputs": [
    {
     "name": "stdout",
     "output_type": "stream",
     "text": [
      "[12, 56, 90]\n",
      "[12, 56, 90]\n"
     ]
    }
   ],
   "source": [
    "a = [12,56,90]\n",
    "b = a.copy()\n",
    "print(a)\n",
    "print(b)"
   ]
  },
  {
   "cell_type": "code",
   "execution_count": 34,
   "metadata": {},
   "outputs": [
    {
     "name": "stdout",
     "output_type": "stream",
     "text": [
      "[12, 90, 34]\n",
      "[]\n"
     ]
    }
   ],
   "source": [
    "a = [12,90,34]\n",
    "print(a)\n",
    "a.clear()\n",
    "print(a)"
   ]
  },
  {
   "cell_type": "code",
   "execution_count": 35,
   "metadata": {},
   "outputs": [
    {
     "name": "stdout",
     "output_type": "stream",
     "text": [
      "[12, 90, 34]\n",
      "[12, 90, 34, [12, 100]]\n"
     ]
    }
   ],
   "source": [
    "var = [12,90,34]\n",
    "b = [12,100]\n",
    "print(var)\n",
    "var.append(b)\n",
    "print(var)"
   ]
  },
  {
   "cell_type": "code",
   "execution_count": 36,
   "metadata": {},
   "outputs": [
    {
     "name": "stdout",
     "output_type": "stream",
     "text": [
      "[12, 90, 34]\n",
      "[12, 90, 34, 12, 100]\n"
     ]
    }
   ],
   "source": [
    "var = [12,90,34]\n",
    "b = [12,100]\n",
    "print(var)\n",
    "var.extend(b)\n",
    "print(var)"
   ]
  },
  {
   "cell_type": "code",
   "execution_count": null,
   "metadata": {},
   "outputs": [],
   "source": []
  }
 ],
 "metadata": {
  "kernelspec": {
   "display_name": "Python 3",
   "language": "python",
   "name": "python3"
  },
  "language_info": {
   "codemirror_mode": {
    "name": "ipython",
    "version": 3
   },
   "file_extension": ".py",
   "mimetype": "text/x-python",
   "name": "python",
   "nbconvert_exporter": "python",
   "pygments_lexer": "ipython3",
   "version": "3.8.3"
  }
 },
 "nbformat": 4,
 "nbformat_minor": 4
}
