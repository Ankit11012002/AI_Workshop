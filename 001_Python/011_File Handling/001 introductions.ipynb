{
 "cells": [
  {
   "cell_type": "code",
   "execution_count": null,
   "metadata": {},
   "outputs": [],
   "source": [
    "# file operations\n",
    "'''\n",
    "1. write\n",
    "2. read\n",
    "3. close\n",
    "\n",
    "'''\n",
    "# open(\"file name with path \",\"mode\") - --> to create a file object\n",
    "'''\n",
    "1. write()\n",
    "2. read(n) ---> n no of characters we can read\n",
    "3. read()\n",
    "4. readline\n",
    "5. close()\n",
    "6. tell()\n",
    "7. seek()\n",
    "'''\n",
    "# mode \n",
    "'''\n",
    "1. write ---> w -> only write / w+ ==> write + read\n",
    "---------------------------------------------------\n",
    "======>>> file not existed ---> create a file\n",
    "=====>>>> file is existed with some data ---> the file data can deleted  and then open\n",
    "\n",
    "\n",
    "2. append --> a -> only write / a+ ==> write + read\n",
    "----------------------------------------------------\n",
    "======>>> file not existed ---> create a file\n",
    "=====>>>> file is existed with some data ---> the file data can safe  then open ---> we can't modify existing data\n",
    "\n",
    "3. read  ---> r -> only read  / r+ ==> write + read\n",
    "----------------------------------------------------\n",
    "======>>> file not existed ---> it can be file error\n",
    "=====>>>> file is existed with some data ---> the file data can safe  then open --> we can modify existing data\n",
    "'''"
   ]
  },
  {
   "cell_type": "code",
   "execution_count": 1,
   "metadata": {},
   "outputs": [
    {
     "name": "stdout",
     "output_type": "stream",
     "text": [
      "enter data : i am entering the data from anjan computer\n"
     ]
    }
   ],
   "source": [
    "# write mode --> w\n",
    "fo = open(\"sample.txt\",\"w\") # sample.txt is not existed  then it creates the file\n",
    "data = input(\"enter data : \")\n",
    "fo.write(data)\n",
    "fo.close()"
   ]
  },
  {
   "cell_type": "code",
   "execution_count": 2,
   "metadata": {},
   "outputs": [
    {
     "name": "stdout",
     "output_type": "stream",
     "text": [
      "enter data : This is AI workshop\n"
     ]
    }
   ],
   "source": [
    "# write mode --> w\n",
    "fo = open(\"sample.txt\",\"w\") # sample.txt is  existed  with some data\n",
    "data = input(\"enter data : \")\n",
    "fo.write(data)\n",
    "fo.close()"
   ]
  },
  {
   "cell_type": "code",
   "execution_count": 3,
   "metadata": {},
   "outputs": [
    {
     "name": "stdout",
     "output_type": "stream",
     "text": [
      "cursor loc :  0\n",
      "enter data : 1234567890\n",
      "cursor loc :  10\n",
      "cursor loc :  0\n"
     ]
    },
    {
     "ename": "UnsupportedOperation",
     "evalue": "not readable",
     "output_type": "error",
     "traceback": [
      "\u001b[1;31m---------------------------------------------------------------------------\u001b[0m",
      "\u001b[1;31mUnsupportedOperation\u001b[0m                      Traceback (most recent call last)",
      "\u001b[1;32m<ipython-input-3-5464a0e31d69>\u001b[0m in \u001b[0;36m<module>\u001b[1;34m\u001b[0m\n\u001b[0;32m      7\u001b[0m \u001b[0mfo\u001b[0m\u001b[1;33m.\u001b[0m\u001b[0mseek\u001b[0m\u001b[1;33m(\u001b[0m\u001b[1;36m0\u001b[0m\u001b[1;33m,\u001b[0m\u001b[1;36m0\u001b[0m\u001b[1;33m)\u001b[0m   \u001b[1;31m# BOF\u001b[0m\u001b[1;33m\u001b[0m\u001b[1;33m\u001b[0m\u001b[0m\n\u001b[0;32m      8\u001b[0m \u001b[0mprint\u001b[0m\u001b[1;33m(\u001b[0m\u001b[1;34m\"cursor loc : \"\u001b[0m\u001b[1;33m,\u001b[0m\u001b[0mfo\u001b[0m\u001b[1;33m.\u001b[0m\u001b[0mtell\u001b[0m\u001b[1;33m(\u001b[0m\u001b[1;33m)\u001b[0m\u001b[1;33m)\u001b[0m\u001b[1;31m# 0\u001b[0m\u001b[1;33m\u001b[0m\u001b[1;33m\u001b[0m\u001b[0m\n\u001b[1;32m----> 9\u001b[1;33m \u001b[0mprint\u001b[0m\u001b[1;33m(\u001b[0m\u001b[0mfo\u001b[0m\u001b[1;33m.\u001b[0m\u001b[0mread\u001b[0m\u001b[1;33m(\u001b[0m\u001b[1;33m)\u001b[0m\u001b[1;33m)\u001b[0m\u001b[1;33m\u001b[0m\u001b[1;33m\u001b[0m\u001b[0m\n\u001b[0m\u001b[0;32m     10\u001b[0m \u001b[0mfo\u001b[0m\u001b[1;33m.\u001b[0m\u001b[0mclose\u001b[0m\u001b[1;33m(\u001b[0m\u001b[1;33m)\u001b[0m\u001b[1;33m\u001b[0m\u001b[1;33m\u001b[0m\u001b[0m\n",
      "\u001b[1;31mUnsupportedOperation\u001b[0m: not readable"
     ]
    }
   ],
   "source": [
    "# write mode --> w\n",
    "fo = open(\"sample.txt\",\"w\") # sample.txt is  existed  with some data\n",
    "print(\"cursor loc : \",fo.tell())# 0\n",
    "data = input(\"enter data : \")  # 10 characters\n",
    "fo.write(data)\n",
    "print(\"cursor loc : \",fo.tell()) # 10\n",
    "fo.seek(0,0)   # BOF\n",
    "print(\"cursor loc : \",fo.tell())# 0\n",
    "print(fo.read())\n",
    "fo.close()"
   ]
  },
  {
   "cell_type": "code",
   "execution_count": 4,
   "metadata": {},
   "outputs": [
    {
     "name": "stdout",
     "output_type": "stream",
     "text": [
      "cursor loc :  0\n",
      "enter data : 0123456789\n",
      "cursor loc :  10\n",
      "cursor loc :  0\n",
      "0123456789\n"
     ]
    }
   ],
   "source": [
    "# write mode --> w+  ---> write & read\n",
    "fo = open(\"sample.txt\",\"w+\") # sample.txt is  existed  with some data\n",
    "print(\"cursor loc : \",fo.tell())# 0\n",
    "data = input(\"enter data : \")  # 10 characters\n",
    "fo.write(data)\n",
    "print(\"cursor loc : \",fo.tell()) # 10\n",
    "fo.seek(0,0)   # BOF\n",
    "print(\"cursor loc : \",fo.tell())# 0\n",
    "print(fo.read())\n",
    "fo.close()"
   ]
  },
  {
   "cell_type": "code",
   "execution_count": 5,
   "metadata": {},
   "outputs": [
    {
     "name": "stdout",
     "output_type": "stream",
     "text": [
      "enter data : \"This is appendmode i openend\n"
     ]
    }
   ],
   "source": [
    "# aappend mode --> a\n",
    "fo = open(\"sample1.txt\",\"a\") # sampl1e.txt is not existed  then it creates the file\n",
    "data = input(\"enter data : \")\n",
    "fo.write(data)\n",
    "fo.close()"
   ]
  },
  {
   "cell_type": "code",
   "execution_count": 6,
   "metadata": {},
   "outputs": [
    {
     "name": "stdout",
     "output_type": "stream",
     "text": [
      "enter data : 0123456789\n"
     ]
    }
   ],
   "source": [
    "# append mode --> a\n",
    "fo = open(\"sample1.txt\",\"a\") # sampl1e.txt is existed  then it can open\n",
    "data = input(\"enter data : \")\n",
    "fo.write(data)\n",
    "fo.close()"
   ]
  },
  {
   "cell_type": "code",
   "execution_count": 7,
   "metadata": {},
   "outputs": [
    {
     "name": "stdout",
     "output_type": "stream",
     "text": [
      "cursor loc :  39\n",
      "enter data : anjan\n",
      "cursor loc :  44\n",
      "cursor loc :  0\n"
     ]
    },
    {
     "ename": "UnsupportedOperation",
     "evalue": "not readable",
     "output_type": "error",
     "traceback": [
      "\u001b[1;31m---------------------------------------------------------------------------\u001b[0m",
      "\u001b[1;31mUnsupportedOperation\u001b[0m                      Traceback (most recent call last)",
      "\u001b[1;32m<ipython-input-7-472f9a2344b7>\u001b[0m in \u001b[0;36m<module>\u001b[1;34m\u001b[0m\n\u001b[0;32m      7\u001b[0m \u001b[0mfo\u001b[0m\u001b[1;33m.\u001b[0m\u001b[0mseek\u001b[0m\u001b[1;33m(\u001b[0m\u001b[1;36m0\u001b[0m\u001b[1;33m,\u001b[0m\u001b[1;36m0\u001b[0m\u001b[1;33m)\u001b[0m   \u001b[1;31m# BOF\u001b[0m\u001b[1;33m\u001b[0m\u001b[1;33m\u001b[0m\u001b[0m\n\u001b[0;32m      8\u001b[0m \u001b[0mprint\u001b[0m\u001b[1;33m(\u001b[0m\u001b[1;34m\"cursor loc : \"\u001b[0m\u001b[1;33m,\u001b[0m\u001b[0mfo\u001b[0m\u001b[1;33m.\u001b[0m\u001b[0mtell\u001b[0m\u001b[1;33m(\u001b[0m\u001b[1;33m)\u001b[0m\u001b[1;33m)\u001b[0m\u001b[1;31m# 0\u001b[0m\u001b[1;33m\u001b[0m\u001b[1;33m\u001b[0m\u001b[0m\n\u001b[1;32m----> 9\u001b[1;33m \u001b[0mprint\u001b[0m\u001b[1;33m(\u001b[0m\u001b[0mfo\u001b[0m\u001b[1;33m.\u001b[0m\u001b[0mread\u001b[0m\u001b[1;33m(\u001b[0m\u001b[1;33m)\u001b[0m\u001b[1;33m)\u001b[0m\u001b[1;33m\u001b[0m\u001b[1;33m\u001b[0m\u001b[0m\n\u001b[0m\u001b[0;32m     10\u001b[0m \u001b[0mfo\u001b[0m\u001b[1;33m.\u001b[0m\u001b[0mclose\u001b[0m\u001b[1;33m(\u001b[0m\u001b[1;33m)\u001b[0m\u001b[1;33m\u001b[0m\u001b[1;33m\u001b[0m\u001b[0m\n",
      "\u001b[1;31mUnsupportedOperation\u001b[0m: not readable"
     ]
    }
   ],
   "source": [
    "# append mode --> a  ---> write \n",
    "fo = open(\"sample1.txt\",\"a\") # sample1.txt is  existed  with some data\n",
    "print(\"cursor loc : \",fo.tell())# 0\n",
    "data = input(\"enter data : \")  # 10 characters\n",
    "fo.write(data)\n",
    "print(\"cursor loc : \",fo.tell()) # 10\n",
    "fo.seek(0,0)   # BOF\n",
    "print(\"cursor loc : \",fo.tell())# 0\n",
    "print(fo.read())\n",
    "fo.close()"
   ]
  },
  {
   "cell_type": "code",
   "execution_count": 8,
   "metadata": {},
   "outputs": [
    {
     "name": "stdout",
     "output_type": "stream",
     "text": [
      "cursor loc :  44\n",
      "enter data : 0123456789\n",
      "cursor loc :  54\n",
      "cursor loc :  0\n",
      "\"This is appendmode i openend0123456789anjan0123456789\n"
     ]
    }
   ],
   "source": [
    "# append mode --> a+  ---> write  & read\n",
    "fo = open(\"sample1.txt\",\"a+\") # sample1.txt is  existed  with some data\n",
    "print(\"cursor loc : \",fo.tell())# 0\n",
    "data = input(\"enter data : \")  # 10 characters\n",
    "fo.write(data)\n",
    "print(\"cursor loc : \",fo.tell()) # 10\n",
    "fo.seek(0,0)   # BOF\n",
    "print(\"cursor loc : \",fo.tell())# 0\n",
    "print(fo.read())\n",
    "fo.close()"
   ]
  },
  {
   "cell_type": "code",
   "execution_count": 9,
   "metadata": {},
   "outputs": [
    {
     "ename": "FileNotFoundError",
     "evalue": "[Errno 2] No such file or directory: 'sample3.txt'",
     "output_type": "error",
     "traceback": [
      "\u001b[1;31m---------------------------------------------------------------------------\u001b[0m",
      "\u001b[1;31mFileNotFoundError\u001b[0m                         Traceback (most recent call last)",
      "\u001b[1;32m<ipython-input-9-050af93bff73>\u001b[0m in \u001b[0;36m<module>\u001b[1;34m\u001b[0m\n\u001b[0;32m      1\u001b[0m \u001b[1;31m# read mode -->\u001b[0m\u001b[1;33m\u001b[0m\u001b[1;33m\u001b[0m\u001b[1;33m\u001b[0m\u001b[0m\n\u001b[1;32m----> 2\u001b[1;33m \u001b[0mfo\u001b[0m \u001b[1;33m=\u001b[0m \u001b[0mopen\u001b[0m\u001b[1;33m(\u001b[0m\u001b[1;34m\"sample3.txt\"\u001b[0m\u001b[1;33m,\u001b[0m\u001b[1;34m\"r\"\u001b[0m\u001b[1;33m)\u001b[0m \u001b[1;31m# sampl3e.txt is not existed  error\u001b[0m\u001b[1;33m\u001b[0m\u001b[1;33m\u001b[0m\u001b[0m\n\u001b[0m\u001b[0;32m      3\u001b[0m \u001b[0mdata\u001b[0m \u001b[1;33m=\u001b[0m \u001b[0minput\u001b[0m\u001b[1;33m(\u001b[0m\u001b[1;34m\"enter data : \"\u001b[0m\u001b[1;33m)\u001b[0m\u001b[1;33m\u001b[0m\u001b[1;33m\u001b[0m\u001b[0m\n\u001b[0;32m      4\u001b[0m \u001b[0mfo\u001b[0m\u001b[1;33m.\u001b[0m\u001b[0mwrite\u001b[0m\u001b[1;33m(\u001b[0m\u001b[0mdata\u001b[0m\u001b[1;33m)\u001b[0m\u001b[1;33m\u001b[0m\u001b[1;33m\u001b[0m\u001b[0m\n\u001b[0;32m      5\u001b[0m \u001b[0mfo\u001b[0m\u001b[1;33m.\u001b[0m\u001b[0mclose\u001b[0m\u001b[1;33m(\u001b[0m\u001b[1;33m)\u001b[0m\u001b[1;33m\u001b[0m\u001b[1;33m\u001b[0m\u001b[0m\n",
      "\u001b[1;31mFileNotFoundError\u001b[0m: [Errno 2] No such file or directory: 'sample3.txt'"
     ]
    }
   ],
   "source": [
    "# read mode --> \n",
    "fo = open(\"sample3.txt\",\"r\") # sampl3e.txt is not existed  error\n",
    "data = input(\"enter data : \")\n",
    "fo.write(data)\n",
    "fo.close()"
   ]
  },
  {
   "cell_type": "code",
   "execution_count": 10,
   "metadata": {},
   "outputs": [
    {
     "name": "stdout",
     "output_type": "stream",
     "text": [
      "enter data : 1234555\n"
     ]
    },
    {
     "ename": "UnsupportedOperation",
     "evalue": "not writable",
     "output_type": "error",
     "traceback": [
      "\u001b[1;31m---------------------------------------------------------------------------\u001b[0m",
      "\u001b[1;31mUnsupportedOperation\u001b[0m                      Traceback (most recent call last)",
      "\u001b[1;32m<ipython-input-10-1530c64bfb1b>\u001b[0m in \u001b[0;36m<module>\u001b[1;34m\u001b[0m\n\u001b[0;32m      2\u001b[0m \u001b[0mfo\u001b[0m \u001b[1;33m=\u001b[0m \u001b[0mopen\u001b[0m\u001b[1;33m(\u001b[0m\u001b[1;34m\"sample.txt\"\u001b[0m\u001b[1;33m,\u001b[0m\u001b[1;34m\"r\"\u001b[0m\u001b[1;33m)\u001b[0m \u001b[1;31m# sampl3e.txt is not existed  error\u001b[0m\u001b[1;33m\u001b[0m\u001b[1;33m\u001b[0m\u001b[0m\n\u001b[0;32m      3\u001b[0m \u001b[0mdata\u001b[0m \u001b[1;33m=\u001b[0m \u001b[0minput\u001b[0m\u001b[1;33m(\u001b[0m\u001b[1;34m\"enter data : \"\u001b[0m\u001b[1;33m)\u001b[0m\u001b[1;33m\u001b[0m\u001b[1;33m\u001b[0m\u001b[0m\n\u001b[1;32m----> 4\u001b[1;33m \u001b[0mfo\u001b[0m\u001b[1;33m.\u001b[0m\u001b[0mwrite\u001b[0m\u001b[1;33m(\u001b[0m\u001b[0mdata\u001b[0m\u001b[1;33m)\u001b[0m\u001b[1;33m\u001b[0m\u001b[1;33m\u001b[0m\u001b[0m\n\u001b[0m\u001b[0;32m      5\u001b[0m \u001b[0mfo\u001b[0m\u001b[1;33m.\u001b[0m\u001b[0mclose\u001b[0m\u001b[1;33m(\u001b[0m\u001b[1;33m)\u001b[0m\u001b[1;33m\u001b[0m\u001b[1;33m\u001b[0m\u001b[0m\n",
      "\u001b[1;31mUnsupportedOperation\u001b[0m: not writable"
     ]
    }
   ],
   "source": [
    "# read mode --> \n",
    "fo = open(\"sample.txt\",\"r\") # sampl3e.txt is not existed  error\n",
    "data = input(\"enter data : \")\n",
    "fo.write(data)\n",
    "fo.close()"
   ]
  },
  {
   "cell_type": "code",
   "execution_count": 12,
   "metadata": {},
   "outputs": [
    {
     "name": "stdout",
     "output_type": "stream",
     "text": [
      "\"This is appendmode i openend0123456789anjan0123456789\n"
     ]
    }
   ],
   "source": [
    "# read mode --> \n",
    "fo = open(\"sample1.txt\",\"r\") # sampl3e.txt is not existed  error\n",
    "print(fo.read())\n",
    "fo.close()"
   ]
  },
  {
   "cell_type": "code",
   "execution_count": 13,
   "metadata": {},
   "outputs": [
    {
     "name": "stdout",
     "output_type": "stream",
     "text": [
      "\"This is appendmode i openend0123456789anjan0123456789\n",
      "\"This is appendmode i openend0123456789anjan0123456789hello\n"
     ]
    }
   ],
   "source": [
    "# read mode --> r+\n",
    "fo = open(\"sample1.txt\",\"r+\") # sampl3e.txt is not existed  error\n",
    "print(fo.read())\n",
    "fo.write(\"hello\")\n",
    "fo.seek(0,0)\n",
    "print(fo.read())\n",
    "fo.close()"
   ]
  },
  {
   "cell_type": "code",
   "execution_count": 14,
   "metadata": {},
   "outputs": [
    {
     "name": "stdout",
     "output_type": "stream",
     "text": [
      "\"This is appendmode i openend0123456789anjan0123456789hello\n",
      "hello is appendmode i openend0123456789anjan0123456789hello\n"
     ]
    }
   ],
   "source": [
    "# read mode --> r+\n",
    "fo = open(\"sample1.txt\",\"r+\") # sampl3e.txt is not existed  error\n",
    "print(fo.read())\n",
    "fo.seek(0,0) # BOF\n",
    "fo.write(\"hello\")\n",
    "fo.seek(0,0)\n",
    "print(fo.read())\n",
    "fo.close()"
   ]
  },
  {
   "cell_type": "code",
   "execution_count": 15,
   "metadata": {},
   "outputs": [
    {
     "name": "stdout",
     "output_type": "stream",
     "text": [
      "hello is appendmode i openend0123456789anjan0123456789hello\n"
     ]
    },
    {
     "ename": "ValueError",
     "evalue": "invalid whence (6, should be 0, 1 or 2)",
     "output_type": "error",
     "traceback": [
      "\u001b[1;31m---------------------------------------------------------------------------\u001b[0m",
      "\u001b[1;31mValueError\u001b[0m                                Traceback (most recent call last)",
      "\u001b[1;32m<ipython-input-15-1f10534381cb>\u001b[0m in \u001b[0;36m<module>\u001b[1;34m\u001b[0m\n\u001b[0;32m      2\u001b[0m \u001b[0mfo\u001b[0m \u001b[1;33m=\u001b[0m \u001b[0mopen\u001b[0m\u001b[1;33m(\u001b[0m\u001b[1;34m\"sample1.txt\"\u001b[0m\u001b[1;33m,\u001b[0m\u001b[1;34m\"r+\"\u001b[0m\u001b[1;33m)\u001b[0m \u001b[1;31m# sampl3e.txt is not existed  error\u001b[0m\u001b[1;33m\u001b[0m\u001b[1;33m\u001b[0m\u001b[0m\n\u001b[0;32m      3\u001b[0m \u001b[0mprint\u001b[0m\u001b[1;33m(\u001b[0m\u001b[0mfo\u001b[0m\u001b[1;33m.\u001b[0m\u001b[0mread\u001b[0m\u001b[1;33m(\u001b[0m\u001b[1;33m)\u001b[0m\u001b[1;33m)\u001b[0m\u001b[1;33m\u001b[0m\u001b[1;33m\u001b[0m\u001b[0m\n\u001b[1;32m----> 4\u001b[1;33m \u001b[0mfo\u001b[0m\u001b[1;33m.\u001b[0m\u001b[0mseek\u001b[0m\u001b[1;33m(\u001b[0m\u001b[1;36m0\u001b[0m\u001b[1;33m,\u001b[0m\u001b[1;36m6\u001b[0m\u001b[1;33m)\u001b[0m \u001b[1;31m# BOF\u001b[0m\u001b[1;33m\u001b[0m\u001b[1;33m\u001b[0m\u001b[0m\n\u001b[0m\u001b[0;32m      5\u001b[0m \u001b[0mfo\u001b[0m\u001b[1;33m.\u001b[0m\u001b[0mwrite\u001b[0m\u001b[1;33m(\u001b[0m\u001b[1;34m\"hello\"\u001b[0m\u001b[1;33m)\u001b[0m\u001b[1;33m\u001b[0m\u001b[1;33m\u001b[0m\u001b[0m\n\u001b[0;32m      6\u001b[0m \u001b[0mfo\u001b[0m\u001b[1;33m.\u001b[0m\u001b[0mseek\u001b[0m\u001b[1;33m(\u001b[0m\u001b[1;36m0\u001b[0m\u001b[1;33m,\u001b[0m\u001b[1;36m0\u001b[0m\u001b[1;33m)\u001b[0m\u001b[1;33m\u001b[0m\u001b[1;33m\u001b[0m\u001b[0m\n",
      "\u001b[1;31mValueError\u001b[0m: invalid whence (6, should be 0, 1 or 2)"
     ]
    }
   ],
   "source": [
    "# read mode --> r+\n",
    "fo = open(\"sample1.txt\",\"r+\") # sampl3e.txt is not existed  error\n",
    "print(fo.read())\n",
    "fo.seek(0,6) # BOF\n",
    "fo.write(\"hello\")\n",
    "fo.seek(0,0)\n",
    "print(fo.read())\n",
    "fo.close()"
   ]
  },
  {
   "cell_type": "code",
   "execution_count": null,
   "metadata": {},
   "outputs": [],
   "source": [
    "# excel "
   ]
  }
 ],
 "metadata": {
  "kernelspec": {
   "display_name": "Python 3",
   "language": "python",
   "name": "python3"
  },
  "language_info": {
   "codemirror_mode": {
    "name": "ipython",
    "version": 3
   },
   "file_extension": ".py",
   "mimetype": "text/x-python",
   "name": "python",
   "nbconvert_exporter": "python",
   "pygments_lexer": "ipython3",
   "version": "3.8.3"
  }
 },
 "nbformat": 4,
 "nbformat_minor": 4
}
