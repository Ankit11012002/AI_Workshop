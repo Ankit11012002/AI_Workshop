{
 "cells": [
  {
   "cell_type": "markdown",
   "metadata": {},
   "source": [
    "### Python Operators"
   ]
  },
  {
   "cell_type": "markdown",
   "metadata": {},
   "source": [
    "#### 1. Arithmetic Operators"
   ]
  },
  {
   "cell_type": "code",
   "execution_count": 3,
   "metadata": {},
   "outputs": [
    {
     "name": "stdout",
     "output_type": "stream",
     "text": [
      "127.0\n",
      "120.80000000000001\n",
      "384.09000000000003\n",
      "39.96774193548387\n",
      "39.0\n",
      "3.000000000000002\n",
      "3079789.6118285623\n"
     ]
    }
   ],
   "source": [
    "a = 123.90\n",
    "b = 3.1\n",
    "print(a + b)\n",
    "print(a - b)\n",
    "print(a * b)\n",
    "print(a / b)\n",
    "print(a // b)  # floor division\n",
    "print(a % b)  # r\n",
    "print(a ** b) # a power of b"
   ]
  },
  {
   "cell_type": "markdown",
   "metadata": {},
   "source": [
    "### 2. Relational Operators"
   ]
  },
  {
   "cell_type": "code",
   "execution_count": 4,
   "metadata": {},
   "outputs": [
    {
     "name": "stdout",
     "output_type": "stream",
     "text": [
      "True\n",
      "True\n",
      "False\n",
      "False\n",
      "False\n",
      "True\n"
     ]
    }
   ],
   "source": [
    "a = 34\n",
    "b = 45\n",
    "print(a < b)   # True\n",
    "print(a <= b)  # True\n",
    "print(a > b)   # False\n",
    "print(a >= b)  # False\n",
    "print(a == b)  # False\n",
    "print(a != b)  # True"
   ]
  },
  {
   "cell_type": "markdown",
   "metadata": {},
   "source": [
    "### 3. Logical Operators\n",
    "\n"
   ]
  },
  {
   "cell_type": "code",
   "execution_count": 5,
   "metadata": {},
   "outputs": [
    {
     "name": "stdout",
     "output_type": "stream",
     "text": [
      "56\n",
      "0\n",
      "{}\n"
     ]
    }
   ],
   "source": [
    "# logical AND  -->  and\n",
    "# if left side  input is False case then output is Leftside data\n",
    "# if left side input is True Case then output is rightside data\n",
    "'''\n",
    "0 , 0.0 , 0+0j , None , \"\",[],(),{} ---> False Cases\n",
    "\n",
    "'''\n",
    "print(10  and 56) #    56\n",
    "print(True and 0) #    0\n",
    "print( {}  and True) # {}"
   ]
  },
  {
   "cell_type": "code",
   "execution_count": 6,
   "metadata": {},
   "outputs": [
    {
     "data": {
      "text/plain": [
       "False"
      ]
     },
     "execution_count": 6,
     "metadata": {},
     "output_type": "execute_result"
    }
   ],
   "source": [
    "bool(0)"
   ]
  },
  {
   "cell_type": "code",
   "execution_count": 7,
   "metadata": {},
   "outputs": [
    {
     "data": {
      "text/plain": [
       "False"
      ]
     },
     "execution_count": 7,
     "metadata": {},
     "output_type": "execute_result"
    }
   ],
   "source": [
    "bool(0.0)"
   ]
  },
  {
   "cell_type": "code",
   "execution_count": 9,
   "metadata": {},
   "outputs": [
    {
     "data": {
      "text/plain": [
       "False"
      ]
     },
     "execution_count": 9,
     "metadata": {},
     "output_type": "execute_result"
    }
   ],
   "source": [
    "0b1010101  and 0b11\n",
    "\n",
    "bool(0) and bool(1)"
   ]
  },
  {
   "cell_type": "code",
   "execution_count": 10,
   "metadata": {},
   "outputs": [
    {
     "data": {
      "text/plain": [
       "False"
      ]
     },
     "execution_count": 10,
     "metadata": {},
     "output_type": "execute_result"
    }
   ],
   "source": [
    "bool(0) # false"
   ]
  },
  {
   "cell_type": "code",
   "execution_count": 11,
   "metadata": {},
   "outputs": [
    {
     "name": "stdout",
     "output_type": "stream",
     "text": [
      "False\n",
      "False\n",
      "True\n"
     ]
    }
   ],
   "source": [
    "print(bool(0))\n",
    "print(bool(0.0)) # False\n",
    "print(bool(10)) # True"
   ]
  },
  {
   "cell_type": "code",
   "execution_count": 12,
   "metadata": {},
   "outputs": [
    {
     "name": "stdout",
     "output_type": "stream",
     "text": [
      "10\n",
      "True\n",
      "True\n"
     ]
    }
   ],
   "source": [
    "# logical OR -->  or\n",
    "# if left side  input is False case then output is rightside data\n",
    "# if left side input is True Case then output is leftside data\n",
    "'''\n",
    "0 , 0.0 , 0+0j , None , \"\",[],(),{} ---> False Cases\n",
    "\n",
    "\n",
    "\n",
    "'''\n",
    "print(10  or 56) #    10\n",
    "print(True or 0) #   True\n",
    "print( {}  or True) # True"
   ]
  },
  {
   "cell_type": "code",
   "execution_count": 13,
   "metadata": {},
   "outputs": [
    {
     "name": "stdout",
     "output_type": "stream",
     "text": [
      "False\n",
      "True\n"
     ]
    }
   ],
   "source": [
    "# Logical NOT   --->  not\n",
    "# False case ------> True\n",
    "# True case ------> False\n",
    "print(  not 10)  # False\n",
    "print( not 0.0000) # True"
   ]
  },
  {
   "cell_type": "markdown",
   "metadata": {},
   "source": [
    "### Assignment     =\n"
   ]
  },
  {
   "cell_type": "code",
   "execution_count": 14,
   "metadata": {},
   "outputs": [
    {
     "name": "stdout",
     "output_type": "stream",
     "text": [
      "123\n",
      "123\n",
      "246\n"
     ]
    }
   ],
   "source": [
    "var = 123 # constant to variable\n",
    "b   = var # variable to variable\n",
    "c   = var + b  # expression  to variable\n",
    "print(var)\n",
    "print(b)\n",
    "print(c)"
   ]
  },
  {
   "cell_type": "markdown",
   "metadata": {},
   "source": [
    "# Do operation then result updated to same variable\n",
    "\n",
    "# compound Assignment\n",
    "\n"
   ]
  },
  {
   "cell_type": "code",
   "execution_count": 15,
   "metadata": {},
   "outputs": [
    {
     "name": "stdout",
     "output_type": "stream",
     "text": [
      "10\n",
      "20\n",
      "30\n",
      "20\n"
     ]
    }
   ],
   "source": [
    "a = 10\n",
    "b = 20\n",
    "print(a)\n",
    "print(b)\n",
    "a  =  a+b   # addition then update a\n",
    "print(a)\n",
    "print(b)\n"
   ]
  },
  {
   "cell_type": "code",
   "execution_count": 16,
   "metadata": {},
   "outputs": [
    {
     "name": "stdout",
     "output_type": "stream",
     "text": [
      "10\n",
      "20\n",
      "30\n",
      "20\n"
     ]
    }
   ],
   "source": [
    "a = 10\n",
    "b = 20\n",
    "print(a)\n",
    "print(b)\n",
    "a  += b #  a  =  a+b   # addition then update a\n",
    "print(a)\n",
    "print(b)"
   ]
  },
  {
   "cell_type": "code",
   "execution_count": 17,
   "metadata": {},
   "outputs": [
    {
     "name": "stdout",
     "output_type": "stream",
     "text": [
      "10\n",
      "20\n",
      "-10\n",
      "20\n"
     ]
    }
   ],
   "source": [
    "a = 10\n",
    "b = 20\n",
    "print(a)\n",
    "print(b)\n",
    "a  -= b #  a  =  a - b  \n",
    "print(a)\n",
    "print(b)"
   ]
  },
  {
   "cell_type": "code",
   "execution_count": 18,
   "metadata": {},
   "outputs": [
    {
     "name": "stdout",
     "output_type": "stream",
     "text": [
      "10\n",
      "20\n",
      "200\n",
      "20\n"
     ]
    }
   ],
   "source": [
    "a = 10\n",
    "b = 20\n",
    "print(a)\n",
    "print(b)\n",
    "a  *= b #  a  =  a * b  \n",
    "print(a)\n",
    "print(b)"
   ]
  },
  {
   "cell_type": "code",
   "execution_count": 19,
   "metadata": {},
   "outputs": [
    {
     "name": "stdout",
     "output_type": "stream",
     "text": [
      "False\n"
     ]
    }
   ],
   "source": [
    "# Yeah---> pawan prakash\n",
    "\n",
    "#logical operator   <---- conditiona\n",
    "a = 10\n",
    "b  = 21\n",
    "# wap for a &b are more than 15\n",
    "\n",
    "print(a > 15  and b > 15) # False"
   ]
  },
  {
   "cell_type": "code",
   "execution_count": 20,
   "metadata": {},
   "outputs": [
    {
     "ename": "SyntaxError",
     "evalue": "invalid syntax (<ipython-input-20-95b79d2d25e6>, line 1)",
     "output_type": "error",
     "traceback": [
      "\u001b[1;36m  File \u001b[1;32m\"<ipython-input-20-95b79d2d25e6>\"\u001b[1;36m, line \u001b[1;32m1\u001b[0m\n\u001b[1;33m    print(a = 15  and b = 0) # Error\u001b[0m\n\u001b[1;37m                        ^\u001b[0m\n\u001b[1;31mSyntaxError\u001b[0m\u001b[1;31m:\u001b[0m invalid syntax\n"
     ]
    }
   ],
   "source": [
    "print(a = 15  and b = 0) # Error"
   ]
  },
  {
   "cell_type": "code",
   "execution_count": 21,
   "metadata": {},
   "outputs": [
    {
     "name": "stdout",
     "output_type": "stream",
     "text": [
      "0\n"
     ]
    }
   ],
   "source": [
    "a = 10\n",
    "b = -10\n",
    "print(a - b  and a+b)"
   ]
  },
  {
   "cell_type": "code",
   "execution_count": 22,
   "metadata": {},
   "outputs": [
    {
     "name": "stdout",
     "output_type": "stream",
     "text": [
      "True\n"
     ]
    }
   ],
   "source": [
    "# wap find the from any one number more than 10\n",
    "a = 5\n",
    "b = 6\n",
    "c = 15\n",
    "print(a> 10  or b > 10  or c > 10)"
   ]
  },
  {
   "cell_type": "code",
   "execution_count": 23,
   "metadata": {},
   "outputs": [
    {
     "name": "stdout",
     "output_type": "stream",
     "text": [
      "False\n"
     ]
    }
   ],
   "source": [
    "# wap find the from any 2  number more than 10\n",
    "a = 5\n",
    "b = 6\n",
    "c = 15\n",
    "print(a> 10  or b > 10  and c > 10)"
   ]
  },
  {
   "cell_type": "code",
   "execution_count": 24,
   "metadata": {},
   "outputs": [
    {
     "name": "stdout",
     "output_type": "stream",
     "text": [
      "True\n"
     ]
    }
   ],
   "source": [
    "# wap find the from any 2  number more than 10\n",
    "a = 5\n",
    "b = 16\n",
    "c = 15\n",
    "print(a> 10  or b > 10  and c > 10)"
   ]
  },
  {
   "cell_type": "code",
   "execution_count": 25,
   "metadata": {},
   "outputs": [
    {
     "name": "stdout",
     "output_type": "stream",
     "text": [
      "True\n"
     ]
    }
   ],
   "source": [
    "# wap find the from any 2  number more than 10\n",
    "a = 15\n",
    "b = 6\n",
    "c = 5\n",
    "print(a> 10  or b > 10  and c > 10)"
   ]
  },
  {
   "cell_type": "code",
   "execution_count": 26,
   "metadata": {},
   "outputs": [
    {
     "name": "stdout",
     "output_type": "stream",
     "text": [
      "True\n",
      "True\n"
     ]
    }
   ],
   "source": [
    "print(bool(43))\n",
    "print(bool(23))"
   ]
  },
  {
   "cell_type": "code",
   "execution_count": 27,
   "metadata": {},
   "outputs": [
    {
     "name": "stdout",
     "output_type": "stream",
     "text": [
      "23\n",
      "43\n"
     ]
    }
   ],
   "source": [
    "# input1   and input2  #    input1 / input2\n",
    "# result   ---> input1  when input1 is False\n",
    "# result  --->> input2  when input1 is True\n",
    "\n",
    "print( 43  and 23) #23\n",
    "print( 23   and 43 ) #43"
   ]
  },
  {
   "cell_type": "code",
   "execution_count": 28,
   "metadata": {},
   "outputs": [
    {
     "name": "stdout",
     "output_type": "stream",
     "text": [
      "43\n",
      "23\n"
     ]
    }
   ],
   "source": [
    "# input1   or input2  #    input1 / input2\n",
    "# result   ---> input1  when input1 is True\n",
    "# result  --->> input2  when input1 is False\n",
    "\n",
    "print( 43  or 23) #43\n",
    "print( 23   or 43 ) #23"
   ]
  },
  {
   "cell_type": "markdown",
   "metadata": {},
   "source": [
    "### Special Operators\n",
    "\n",
    "#### Membership   \n"
   ]
  },
  {
   "cell_type": "code",
   "execution_count": 29,
   "metadata": {},
   "outputs": [
    {
     "name": "stdout",
     "output_type": "stream",
     "text": [
      "False\n",
      "True\n"
     ]
    }
   ],
   "source": [
    "con = {12,45,34,100}\n",
    "b   = 100\n",
    "c   = 200\n",
    "print(c in con) #False\n",
    "print(b in con) # True"
   ]
  },
  {
   "cell_type": "code",
   "execution_count": 30,
   "metadata": {},
   "outputs": [
    {
     "name": "stdout",
     "output_type": "stream",
     "text": [
      "True\n",
      "False\n"
     ]
    }
   ],
   "source": [
    "con = {12,45,34,100}\n",
    "b   = 100\n",
    "c   = 200\n",
    "print(c not in con) #True\n",
    "print(b not in con) # False"
   ]
  },
  {
   "cell_type": "code",
   "execution_count": 34,
   "metadata": {},
   "outputs": [
    {
     "name": "stdout",
     "output_type": "stream",
     "text": [
      "2090982408448\n",
      "2090982254656\n",
      "False\n",
      "True\n"
     ]
    }
   ],
   "source": [
    "# Identity Operator\n",
    "# checking the memory \n",
    "# is\n",
    "a = [12,89,100]\n",
    "b = [12,89,100]\n",
    "print(id(a))\n",
    "print(id(b))\n",
    "print(a is b)\n",
    "print(a is not b)"
   ]
  },
  {
   "cell_type": "code",
   "execution_count": 35,
   "metadata": {},
   "outputs": [
    {
     "name": "stdout",
     "output_type": "stream",
     "text": [
      "2090982255936\n",
      "2090982255936\n",
      "True\n",
      "False\n"
     ]
    }
   ],
   "source": [
    "a = [12,89,100]\n",
    "b = a\n",
    "print(id(a))\n",
    "print(id(b))\n",
    "print(a is b)\n",
    "print(a is not b)"
   ]
  },
  {
   "cell_type": "code",
   "execution_count": 36,
   "metadata": {},
   "outputs": [
    {
     "name": "stdout",
     "output_type": "stream",
     "text": [
      "True\n",
      "False\n"
     ]
    }
   ],
   "source": [
    "# vivek sharma\n",
    "\n",
    "# ==       and   is\n",
    "a = [12,89,100]\n",
    "b = [12,89,100]\n",
    "print(a == b)\n",
    "print(a  is b)\n",
    "# is used to compare the memory loc\n",
    "# == used for to compare all values are same or not"
   ]
  },
  {
   "cell_type": "code",
   "execution_count": 37,
   "metadata": {},
   "outputs": [
    {
     "name": "stdout",
     "output_type": "stream",
     "text": [
      "True\n",
      "True\n"
     ]
    }
   ],
   "source": [
    "a = [12,89,100]\n",
    "b = a\n",
    "print(a == b)\n",
    "print(a  is b)"
   ]
  },
  {
   "cell_type": "code",
   "execution_count": 38,
   "metadata": {},
   "outputs": [
    {
     "name": "stdout",
     "output_type": "stream",
     "text": [
      "True\n"
     ]
    }
   ],
   "source": [
    "#shiva shankar guptha \n",
    "\n",
    "#yeah\n",
    "\n",
    "#different variable ===>> pointing same data  ===>> 10% time only same memory location\n",
    "\n",
    "a = \"python\"\n",
    "b = \"python\"\n",
    "print(a is b)"
   ]
  },
  {
   "cell_type": "code",
   "execution_count": 39,
   "metadata": {},
   "outputs": [
    {
     "name": "stdout",
     "output_type": "stream",
     "text": [
      "True\n",
      "False\n"
     ]
    }
   ],
   "source": [
    "a =  100\n",
    "b =  100\n",
    "print(a is b)\n",
    "a = 1000\n",
    "b = 1000\n",
    "print(a is b)"
   ]
  },
  {
   "cell_type": "code",
   "execution_count": 41,
   "metadata": {},
   "outputs": [
    {
     "name": "stdout",
     "output_type": "stream",
     "text": [
      "True\n",
      "False\n"
     ]
    }
   ],
   "source": [
    "#-5 to  256  ===> int \n",
    "a = -5\n",
    "b = -5\n",
    "print(a is b)\n",
    "a = -6\n",
    "b = -6\n",
    "print(a is b)"
   ]
  },
  {
   "cell_type": "code",
   "execution_count": 42,
   "metadata": {},
   "outputs": [
    {
     "name": "stdout",
     "output_type": "stream",
     "text": [
      "True\n",
      "False\n"
     ]
    }
   ],
   "source": [
    "#-5 to  256  ===> \n",
    "a = 256\n",
    "b = 256\n",
    "print(a is b)\n",
    "a = 257\n",
    "b = 257\n",
    "print(a is b)"
   ]
  },
  {
   "cell_type": "code",
   "execution_count": 43,
   "metadata": {},
   "outputs": [
    {
     "name": "stdout",
     "output_type": "stream",
     "text": [
      "True\n"
     ]
    }
   ],
   "source": [
    "# ans  ---> why -5 to 256 for different variable are same memory loc\n",
    "\n",
    "a = [12,90,45]\n",
    "c = 10\n",
    "b = 45\n",
    "print(c and b in a)"
   ]
  },
  {
   "cell_type": "code",
   "execution_count": 44,
   "metadata": {},
   "outputs": [
    {
     "name": "stdout",
     "output_type": "stream",
     "text": [
      "False\n"
     ]
    }
   ],
   "source": [
    "a = [12,90,45]\n",
    "c = 10\n",
    "b = 45\n",
    "print(c in a and b in a)"
   ]
  },
  {
   "cell_type": "code",
   "execution_count": null,
   "metadata": {},
   "outputs": [],
   "source": [
    "# Decimal to Binary\n",
    "# Binary to number"
   ]
  },
  {
   "cell_type": "code",
   "execution_count": 1,
   "metadata": {},
   "outputs": [
    {
     "name": "stdout",
     "output_type": "stream",
     "text": [
      " i am if block\n"
     ]
    }
   ],
   "source": [
    "# control statements --> to change the flow of execution  of program\n",
    "'''\n",
    "1. conditional statement  --> statements  executions depends on conditions\n",
    "2. Looping statements ------> Task --> multiple times \n",
    "3. control keywords   ---->>  we can change the flow of the execution of the control statement\n",
    "'''\n",
    "# conditional statemtns\n",
    "'''\n",
    "1. simple if\n",
    "\n",
    "2. if and else\n",
    "\n",
    "3. elif ladder\n",
    "\n",
    "4.  nested if\n",
    "'''\n",
    "# simple if \n",
    "# wap for understanding simple if\n",
    "\n",
    "if(True):\n",
    "    #if condition is True then if block can execute\n",
    "    print(\" i am if block\")\n",
    "    "
   ]
  },
  {
   "cell_type": "code",
   "execution_count": 2,
   "metadata": {},
   "outputs": [],
   "source": [
    "if(False):\n",
    "    #if condition is failed(False) then if block won't execute\n",
    "    print(\" i am if block\")"
   ]
  },
  {
   "cell_type": "code",
   "execution_count": 3,
   "metadata": {},
   "outputs": [
    {
     "name": "stdout",
     "output_type": "stream",
     "text": [
      "enter side of square in meters : 10\n",
      "area :  None  sq.meter\n"
     ]
    }
   ],
   "source": [
    "# wap find the area of square when side is more than 20 meters\n",
    "side = float(input(\"enter side of square in meters : \"))\n",
    "area = None\n",
    "if(side > 20):\n",
    "    area = side ** 2\n",
    "print(\"area : \",area,\" sq.meter\")"
   ]
  },
  {
   "cell_type": "code",
   "execution_count": 4,
   "metadata": {},
   "outputs": [
    {
     "name": "stdout",
     "output_type": "stream",
     "text": [
      "enter side of square in meters : 25\n",
      "area :  625.0  sq.meter\n"
     ]
    }
   ],
   "source": [
    "# wap find the area of square when side is more than 20 meters\n",
    "side = float(input(\"enter side of square in meters : \"))\n",
    "area = None\n",
    "if(side > 20):\n",
    "    area = side ** 2\n",
    "print(\"area : \",area,\" sq.meter\")"
   ]
  },
  {
   "cell_type": "code",
   "execution_count": 5,
   "metadata": {},
   "outputs": [
    {
     "name": "stdout",
     "output_type": "stream",
     "text": [
      "enter num : 12\n",
      "12  is Even\n"
     ]
    }
   ],
   "source": [
    "# wap find the given number is even or not\n",
    "N = int(input(\"enter num : \"))\n",
    "res = \"Odd\"\n",
    "if(N%2 == 0):\n",
    "    res = \"Even\"\n",
    "print(N,\" is \",res)"
   ]
  },
  {
   "cell_type": "code",
   "execution_count": 6,
   "metadata": {},
   "outputs": [
    {
     "name": "stdout",
     "output_type": "stream",
     "text": [
      "enter num : 13\n",
      "13  is Odd\n"
     ]
    }
   ],
   "source": [
    "# wap find the given number is even or not\n",
    "N = int(input(\"enter num : \"))\n",
    "res = \"Odd\"\n",
    "if(N%2 == 0):\n",
    "    res = \"Even\"\n",
    "print(N,\" is \",res)"
   ]
  },
  {
   "cell_type": "code",
   "execution_count": 7,
   "metadata": {},
   "outputs": [
    {
     "name": "stdout",
     "output_type": "stream",
     "text": [
      "if block\n"
     ]
    }
   ],
   "source": [
    "# if and else\n",
    "'''\n",
    "if (Cond):\n",
    "    Task_if\n",
    "else:\n",
    "    Task_else\n",
    "'''\n",
    "#wap for understanding if and else\n",
    "if(True):\n",
    "    print(\"if block\")\n",
    "else:\n",
    "    print(\"else block\")"
   ]
  },
  {
   "cell_type": "code",
   "execution_count": 8,
   "metadata": {},
   "outputs": [
    {
     "name": "stdout",
     "output_type": "stream",
     "text": [
      "else block\n"
     ]
    }
   ],
   "source": [
    "#wap for understanding if and else\n",
    "if(False):\n",
    "    print(\"if block\")\n",
    "else:\n",
    "    print(\"else block\")"
   ]
  },
  {
   "cell_type": "code",
   "execution_count": 9,
   "metadata": {},
   "outputs": [
    {
     "name": "stdout",
     "output_type": "stream",
     "text": [
      "if block\n"
     ]
    }
   ],
   "source": [
    "#wap for understanding if and else\n",
    "if(-6):\n",
    "    print(\"if block\")\n",
    "else:\n",
    "    print(\"else block\")"
   ]
  },
  {
   "cell_type": "code",
   "execution_count": 10,
   "metadata": {},
   "outputs": [
    {
     "name": "stdout",
     "output_type": "stream",
     "text": [
      "if block\n"
     ]
    }
   ],
   "source": [
    "#wap for understanding if and else\n",
    "if(6):\n",
    "    print(\"if block\")\n",
    "else:\n",
    "    print(\"else block\")"
   ]
  },
  {
   "cell_type": "code",
   "execution_count": 11,
   "metadata": {},
   "outputs": [
    {
     "name": "stdout",
     "output_type": "stream",
     "text": [
      "else block\n"
     ]
    }
   ],
   "source": [
    "#wap for understanding if and else\n",
    "if(0):\n",
    "    print(\"if block\")\n",
    "else:\n",
    "    print(\"else block\")"
   ]
  },
  {
   "cell_type": "code",
   "execution_count": 12,
   "metadata": {},
   "outputs": [
    {
     "name": "stdout",
     "output_type": "stream",
     "text": [
      "enter 12\n",
      "enter 89\n",
      "enter 15\n",
      "big  : =  89\n"
     ]
    }
   ],
   "source": [
    "# wap find the biggest humber from 3 numbers\n",
    "a = int(input(\"enter \"))\n",
    "b = int(input(\"enter \"))\n",
    "c = int(input(\"enter \"))\n",
    "if(a < b):\n",
    "    big = b\n",
    "else:\n",
    "    big = a\n",
    "if(big < c):\n",
    "    big =c\n",
    "print(\"big  : = \",big)"
   ]
  },
  {
   "cell_type": "code",
   "execution_count": 13,
   "metadata": {},
   "outputs": [
    {
     "name": "stdout",
     "output_type": "stream",
     "text": [
      "enter side 10\n",
      "perimeter  40  meter\n"
     ]
    }
   ],
   "source": [
    "#wap find the either area when side is between 15 to 25 other wise find the perimeter of sqaure\n",
    "side = int(input(\"enter side \"))\n",
    "if(side >= 15 and side <= 25):\n",
    "    area = side **2\n",
    "    print(\"area : \",area,\"sq m\")\n",
    "else:\n",
    "    peri = 4 *side\n",
    "    print(\"perimeter \",peri,\" meter\")\n"
   ]
  },
  {
   "cell_type": "code",
   "execution_count": 14,
   "metadata": {},
   "outputs": [
    {
     "name": "stdout",
     "output_type": "stream",
     "text": [
      "enter side 30\n",
      "perimeter  120  meter\n"
     ]
    }
   ],
   "source": [
    "#wap find the either area when side is between 15 to 25 other wise find the perimeter of sqaure\n",
    "side = int(input(\"enter side \"))\n",
    "if(side >= 15 and side <= 25):\n",
    "    area = side **2\n",
    "    print(\"area : \",area,\"sq m\")\n",
    "else:\n",
    "    peri = 4 *side\n",
    "    print(\"perimeter \",peri,\" meter\")\n"
   ]
  },
  {
   "cell_type": "code",
   "execution_count": 15,
   "metadata": {},
   "outputs": [
    {
     "name": "stdout",
     "output_type": "stream",
     "text": [
      "enter side 22\n",
      "area :  484 sq m\n"
     ]
    }
   ],
   "source": [
    "#wap find the either area when side is between 15 to 25 other wise find the perimeter of sqaure\n",
    "side = int(input(\"enter side \"))\n",
    "if(side >= 15 and side <= 25):\n",
    "    area = side **2\n",
    "    print(\"area : \",area,\"sq m\")\n",
    "else:\n",
    "    peri = 4 *side\n",
    "    print(\"perimeter \",peri,\" meter\")\n"
   ]
  },
  {
   "cell_type": "code",
   "execution_count": 16,
   "metadata": {},
   "outputs": [
    {
     "name": "stdout",
     "output_type": "stream",
     "text": [
      "enter exp in years : 3\n",
      "4.8L PA\n"
     ]
    }
   ],
   "source": [
    "# elif ladder\n",
    "'''\n",
    "if(C1):\n",
    "    Task1\n",
    "elif(C2):\n",
    "    Task2\n",
    "elif(C3):\n",
    "    Task3\n",
    "else:\n",
    "    Task4\n",
    "'''\n",
    "# wap fix the salary based on employee experinece\n",
    "# 0 --> 3.2L PA\n",
    "# 2 --> 4.8L PA\n",
    "# 5 ---> 10 LPA\n",
    "# 10 --> 24 LPA\n",
    "# 15 -->  50 LPA\n",
    "# 20 -->  1cr PA\n",
    "exp = float(input(\"enter exp in years : \"))\n",
    "if(exp >= 20):\n",
    "    print(\"1Cr PA\")\n",
    "elif(exp >=15):\n",
    "    print(\"50L PA\")\n",
    "elif(exp >= 10):\n",
    "    print(\"24L PA\")\n",
    "elif(exp >= 5):\n",
    "    print(\"10L PA\")\n",
    "elif(exp >= 2):\n",
    "    print(\"4.8L PA\")\n",
    "elif(exp >= 0):\n",
    "    print(\"3.2L PA\")\n",
    "else:\n",
    "    print(\"Please provide the proper exp\")"
   ]
  },
  {
   "cell_type": "code",
   "execution_count": 17,
   "metadata": {},
   "outputs": [
    {
     "name": "stdout",
     "output_type": "stream",
     "text": [
      "enter 12\n",
      "enter 90\n",
      "enter 11\n",
      "big is b :  90\n"
     ]
    }
   ],
   "source": [
    "#nested if \n",
    "'''\n",
    "one block contains can contains another block\n",
    "'''\n",
    "#wap find the biggest number from 3 numbers\n",
    "a = int(input(\"enter \"))\n",
    "b = int(input(\"enter \"))\n",
    "c = int(input(\"enter \"))\n",
    "if(a < b):\n",
    "    if(b<c):\n",
    "        print(\"big is c : \",c)\n",
    "    else:\n",
    "        print(\"big is b : \",b)\n",
    "else:\n",
    "    if(a<c):\n",
    "        print(\"big is c : \",c)\n",
    "    else:\n",
    "        print(\"big is a : \",a)"
   ]
  },
  {
   "cell_type": "code",
   "execution_count": 18,
   "metadata": {},
   "outputs": [
    {
     "name": "stdout",
     "output_type": "stream",
     "text": [
      "hello\n",
      "hello\n",
      "hello\n",
      "hello\n",
      "hello\n",
      "hello\n",
      "hello\n",
      "hello\n",
      "hello\n",
      "hello\n",
      "else block\n"
     ]
    }
   ],
   "source": [
    "# looping statements\n",
    "# while & for\n",
    "# while loop\n",
    "'''\n",
    "while(Cond):\n",
    "    Task\n",
    "    ----\n",
    "else:\n",
    "    Task\n",
    "    -----\n",
    "'''\n",
    "#wap print hello 10 times\n",
    "i = 1\n",
    "while(i <= 10):\n",
    "    print(\"hello\")\n",
    "    i = i + 1\n",
    "else:\n",
    "    print(\"else block\")"
   ]
  },
  {
   "cell_type": "code",
   "execution_count": 19,
   "metadata": {},
   "outputs": [
    {
     "name": "stdout",
     "output_type": "stream",
     "text": [
      "enter N : 10\n",
      "10  *  1   =   10\n",
      "10  *  2   =   20\n",
      "10  *  3   =   30\n",
      "10  *  4   =   40\n",
      "10  *  5   =   50\n",
      "10  *  6   =   60\n",
      "10  *  7   =   70\n",
      "10  *  8   =   80\n",
      "10  *  9   =   90\n",
      "10  *  10   =   100\n"
     ]
    }
   ],
   "source": [
    "# wap print multiplication table\n",
    "# 5\n",
    "N= int(input(\"enter N : \"))\n",
    "i = 1\n",
    "while(i <= 10):\n",
    "    print(N,\" * \",i,\"  =  \",N*i)\n",
    "    i = i +1"
   ]
  },
  {
   "cell_type": "code",
   "execution_count": 20,
   "metadata": {},
   "outputs": [
    {
     "name": "stdout",
     "output_type": "stream",
     "text": [
      "enter N :  10\n",
      "sum :  55\n"
     ]
    }
   ],
   "source": [
    "# wap find the sum of 1st N natural number \n",
    "N = int(input(\"enter N :  \"))\n",
    "sum = 0\n",
    "i = 1\n",
    "while(i <= N):\n",
    "    sum =  sum +i\n",
    "    i = i +1\n",
    "else:\n",
    "    print(\"sum : \",sum)"
   ]
  },
  {
   "cell_type": "code",
   "execution_count": 24,
   "metadata": {},
   "outputs": [
    {
     "name": "stdout",
     "output_type": "stream",
     "text": [
      "20\n"
     ]
    }
   ],
   "source": [
    "# wap find the factorial of a number \n",
    "print( 10*3 if 10 < 3   else  10*2 )"
   ]
  },
  {
   "cell_type": "code",
   "execution_count": 26,
   "metadata": {},
   "outputs": [
    {
     "name": "stdout",
     "output_type": "stream",
     "text": [
      "enter N : 10\n",
      "1    2    5    10    ====>>> 4\n"
     ]
    }
   ],
   "source": [
    "# wap find the no of factor of number\n",
    "# 10\n",
    "# 1    2      5     10   ====>  4\n",
    "N = int(input(\"enter N : \"))\n",
    "count  = 0\n",
    "i = 1\n",
    "while(i<=N):\n",
    "    if(N %i == 0):\n",
    "        print(i,end = \"    \")\n",
    "        count += 1\n",
    "    i = i + 1\n",
    "else:\n",
    "    print(\"====>>>\",count)"
   ]
  },
  {
   "cell_type": "code",
   "execution_count": 27,
   "metadata": {},
   "outputs": [
    {
     "name": "stdout",
     "output_type": "stream",
     "text": [
      "12\n",
      "90\n",
      "23\n",
      "100\n",
      "else block\n"
     ]
    }
   ],
   "source": [
    "# for loop\n",
    "'''\n",
    "for  var in seq :\n",
    "    Task\n",
    "else:\n",
    "    Task\n",
    "'''\n",
    "seq = [12,90,23,100]\n",
    "for ele in seq:\n",
    "    print(ele)\n",
    "else:\n",
    "    print(\"else block\")"
   ]
  },
  {
   "cell_type": "code",
   "execution_count": 28,
   "metadata": {},
   "outputs": [
    {
     "name": "stdout",
     "output_type": "stream",
     "text": [
      "23\n",
      "100\n",
      "else block\n"
     ]
    }
   ],
   "source": [
    "seq = [12,90,23,100]\n",
    "for ele in seq:\n",
    "    if(ele == 23 or ele == 100):\n",
    "        print(ele)\n",
    "else:\n",
    "    print(\"else block\")"
   ]
  },
  {
   "cell_type": "code",
   "execution_count": 29,
   "metadata": {},
   "outputs": [
    {
     "name": "stdout",
     "output_type": "stream",
     "text": [
      "12\n",
      "90\n",
      "23\n",
      "100\n"
     ]
    }
   ],
   "source": [
    "seq = [12,90,23,100]\n",
    "no_of = len(seq)\n",
    "i =0\n",
    "while(i < no_of):\n",
    "    print(seq[i])\n",
    "    i = i +1"
   ]
  },
  {
   "cell_type": "code",
   "execution_count": 30,
   "metadata": {},
   "outputs": [
    {
     "name": "stdout",
     "output_type": "stream",
     "text": [
      "12 ! =  479001600\n",
      "9 ! =  362880\n",
      "11 ! =  39916800\n",
      "23 ! =  25852016738884976640000\n"
     ]
    }
   ],
   "source": [
    "#wap find the factorial of each element\n",
    "seq = [12,9,11,23]\n",
    "for var in seq:\n",
    "    i = 1\n",
    "    fact = 1\n",
    "    while(i <= var):\n",
    "        fact = fact * i\n",
    "        i = i +1\n",
    "    else:\n",
    "        print(var,\"! = \",fact)\n",
    "        "
   ]
  },
  {
   "cell_type": "code",
   "execution_count": 31,
   "metadata": {},
   "outputs": [
    {
     "data": {
      "text/plain": [
       "range(0, 10)"
      ]
     },
     "execution_count": 31,
     "metadata": {},
     "output_type": "execute_result"
    }
   ],
   "source": [
    "range(10)"
   ]
  },
  {
   "cell_type": "code",
   "execution_count": 32,
   "metadata": {},
   "outputs": [
    {
     "data": {
      "text/plain": [
       "range(10, 20)"
      ]
     },
     "execution_count": 32,
     "metadata": {},
     "output_type": "execute_result"
    }
   ],
   "source": [
    "range(10,20)"
   ]
  },
  {
   "cell_type": "code",
   "execution_count": 33,
   "metadata": {},
   "outputs": [
    {
     "data": {
      "text/plain": [
       "range(10, 30, 3)"
      ]
     },
     "execution_count": 33,
     "metadata": {},
     "output_type": "execute_result"
    }
   ],
   "source": [
    "range(10,30,3)"
   ]
  },
  {
   "cell_type": "code",
   "execution_count": 34,
   "metadata": {},
   "outputs": [
    {
     "name": "stdout",
     "output_type": "stream",
     "text": [
      "0\n",
      "1\n",
      "2\n",
      "3\n",
      "4\n",
      "5\n",
      "6\n",
      "7\n",
      "8\n",
      "9\n"
     ]
    }
   ],
   "source": [
    "for var in range(10):\n",
    "    print(var)"
   ]
  },
  {
   "cell_type": "code",
   "execution_count": 35,
   "metadata": {},
   "outputs": [
    {
     "name": "stdout",
     "output_type": "stream",
     "text": [
      "10\n",
      "11\n",
      "12\n",
      "13\n",
      "14\n",
      "15\n",
      "16\n",
      "17\n",
      "18\n",
      "19\n"
     ]
    }
   ],
   "source": [
    "for var in range(10,20):\n",
    "    print(var)"
   ]
  },
  {
   "cell_type": "code",
   "execution_count": 36,
   "metadata": {},
   "outputs": [
    {
     "name": "stdout",
     "output_type": "stream",
     "text": [
      "10\n",
      "13\n",
      "16\n",
      "19\n",
      "22\n",
      "25\n",
      "28\n"
     ]
    }
   ],
   "source": [
    "for var in range(10,30,3):\n",
    "    print(var)"
   ]
  },
  {
   "cell_type": "code",
   "execution_count": 39,
   "metadata": {},
   "outputs": [
    {
     "name": "stdout",
     "output_type": "stream",
     "text": [
      "[12, 90, 3, 9, 2, 5, 23, 33, 66]\n",
      "3  + 2  + 5  + 23  + ====>>> 33\n"
     ]
    }
   ],
   "source": [
    "#wap find the sum of prime nummbers in a int sequence\n",
    "\n",
    "seq_int = [12,90,3,9,2,5,23,33,66] # prime numbers\n",
    "sum = 0\n",
    "print(seq_int)\n",
    "for num in seq_int:\n",
    "    no_fact = 0\n",
    "    for var in range(1,num+1):\n",
    "        if(num %var == 0):\n",
    "            no_fact += 1\n",
    "    if(no_fact == 2):\n",
    "        sum = sum +num\n",
    "        print(num, end= \"  + \")\n",
    "else:\n",
    "    print(\"====>>>\",sum)\n"
   ]
  },
  {
   "cell_type": "code",
   "execution_count": null,
   "metadata": {},
   "outputs": [],
   "source": [
    "#wap for given number is palidrom\n",
    "# 123  ---> 321  -->not a palidrom\n",
    "# 121 --->  121  -->  palidrom"
   ]
  },
  {
   "cell_type": "code",
   "execution_count": 41,
   "metadata": {},
   "outputs": [],
   "source": [
    "# control keywords\n",
    "# pass -->dummy block\n",
    "if( True):\n",
    "    pass"
   ]
  },
  {
   "cell_type": "code",
   "execution_count": 43,
   "metadata": {},
   "outputs": [
    {
     "name": "stdout",
     "output_type": "stream",
     "text": [
      "1\n",
      "2\n",
      "3\n",
      "4\n",
      "6\n",
      "8\n",
      "9\n",
      "10\n"
     ]
    }
   ],
   "source": [
    "# continue ---> skip the present iteration and continue the  next iteration\n",
    "# wap print  1 to 10 except   5 and 7\n",
    "for var in range(1,11):\n",
    "    if(var == 5  or var == 7):\n",
    "        continue\n",
    "    print(var)"
   ]
  },
  {
   "cell_type": "code",
   "execution_count": 44,
   "metadata": {},
   "outputs": [
    {
     "name": "stdout",
     "output_type": "stream",
     "text": [
      "1\n",
      "2\n",
      "3\n",
      "4\n"
     ]
    }
   ],
   "source": [
    "# break ---> to terminate the blocks\n",
    "# wap 1 to 10 but stop at 5\n",
    "for var in range(1,11):\n",
    "    if(var == 5):\n",
    "        break\n",
    "    print(var)"
   ]
  },
  {
   "cell_type": "code",
   "execution_count": 45,
   "metadata": {},
   "outputs": [
    {
     "name": "stdout",
     "output_type": "stream",
     "text": [
      "1\n",
      "2\n",
      "3\n",
      "4\n"
     ]
    }
   ],
   "source": [
    "for var in range(1,11):\n",
    "    if(var == 5):\n",
    "        break\n",
    "    print(var)\n",
    "else:\n",
    "    print(\"else\")"
   ]
  },
  {
   "cell_type": "code",
   "execution_count": null,
   "metadata": {},
   "outputs": [],
   "source": []
  }
 ],
 "metadata": {
  "kernelspec": {
   "display_name": "Python 3",
   "language": "python",
   "name": "python3"
  },
  "language_info": {
   "codemirror_mode": {
    "name": "ipython",
    "version": 3
   },
   "file_extension": ".py",
   "mimetype": "text/x-python",
   "name": "python",
   "nbconvert_exporter": "python",
   "pygments_lexer": "ipython3",
   "version": "3.8.3"
  }
 },
 "nbformat": 4,
 "nbformat_minor": 4
}
